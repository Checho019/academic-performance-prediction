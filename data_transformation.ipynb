{
 "cells": [
  {
   "cell_type": "markdown",
   "metadata": {},
   "source": [
    "# Fase de transformación y tratamiento de datos - anterior a modelo predictivo"
   ]
  },
  {
   "cell_type": "code",
   "execution_count": 10,
   "metadata": {},
   "outputs": [],
   "source": [
    "import pandas as pd\n",
    "import matplotlib.pyplot as plt\n",
    "import numpy as np"
   ]
  },
  {
   "cell_type": "code",
   "execution_count": 11,
   "metadata": {},
   "outputs": [
    {
     "name": "stdout",
     "output_type": "stream",
     "text": [
      "<class 'pandas.core.frame.DataFrame'>\n",
      "RangeIndex: 8922 entries, 0 to 8921\n",
      "Data columns (total 21 columns):\n",
      " #   Column                     Non-Null Count  Dtype  \n",
      "---  ------                     --------------  -----  \n",
      " 0   PERIODO                    8922 non-null   int64  \n",
      " 1   ESTU_DEPTO_RESIDE          8922 non-null   object \n",
      " 2   ESTU_PRGM_ACADEMICO        8922 non-null   object \n",
      " 3   ESTU_HORASSEMANATRABAJA    8922 non-null   object \n",
      " 4   ESTU_GENERO                8922 non-null   object \n",
      " 5   ESTU_PAGOMATRICULAPROPIO   8922 non-null   object \n",
      " 6   FAMI_EDUCACIONPADRE        8922 non-null   object \n",
      " 7   FAMI_TIENEAUTOMOVIL        8922 non-null   object \n",
      " 8   FAMI_TIENELAVADORA         8922 non-null   object \n",
      " 9   FAMI_ESTRATOVIVIENDA       8922 non-null   object \n",
      " 10  FAMI_TIENECOMPUTADOR       8922 non-null   object \n",
      " 11  FAMI_TIENEINTERNET         8922 non-null   object \n",
      " 12  FAMI_EDUCACIONMADRE        8922 non-null   object \n",
      " 13  MOD_RAZONA_CUANTITAT_PUNT  8922 non-null   int64  \n",
      " 14  MOD_COMUNI_ESCRITA_PUNT    8922 non-null   float64\n",
      " 15  MOD_LECTURA_CRITICA_PUNT   8922 non-null   int64  \n",
      " 16  MOD_INGLES_PUNT            8922 non-null   float64\n",
      " 17  MOD_COMPETEN_CIUDADA_PUNT  8922 non-null   int64  \n",
      " 18  AGE                        8922 non-null   float64\n",
      " 19  PUNT_GLOBAL                8922 non-null   float64\n",
      " 20  RENDIMIENTO                8922 non-null   object \n",
      "dtypes: float64(4), int64(4), object(13)\n",
      "memory usage: 1.4+ MB\n"
     ]
    }
   ],
   "source": [
    "clean_data_df = pd.read_csv(\"raw_data/clean_ud.csv\")\n",
    "clean_data_df.info()"
   ]
  },
  {
   "cell_type": "code",
   "execution_count": 12,
   "metadata": {},
   "outputs": [],
   "source": [
    "# Eliminar columnas de competencias especificas\n",
    "clean_data_df.drop(columns=['MOD_RAZONA_CUANTITAT_PUNT','MOD_COMUNI_ESCRITA_PUNT','MOD_LECTURA_CRITICA_PUNT','MOD_INGLES_PUNT','MOD_COMPETEN_CIUDADA_PUNT','PUNT_GLOBAL'], inplace=True)"
   ]
  },
  {
   "cell_type": "code",
   "execution_count": 13,
   "metadata": {},
   "outputs": [],
   "source": [
    "# Obtener de 'FAMI_ESTRATOVIVIENDA' el estrato numerico 'Sin Estrato' = 0 y los demás son el ultimo caracter el cual es numerico\n",
    "clean_data_df['FAMI_ESTRATOVIVIENDA'] = clean_data_df['FAMI_ESTRATOVIVIENDA'].replace('Sin Estrato', '0')\n",
    "clean_data_df['FAMI_ESTRATOVIVIENDA'] = clean_data_df['FAMI_ESTRATOVIVIENDA'].str[-1]\n",
    "clean_data_df['FAMI_ESTRATOVIVIENDA'] = clean_data_df['FAMI_ESTRATOVIVIENDA'].astype(int)"
   ]
  },
  {
   "cell_type": "code",
   "execution_count": 14,
   "metadata": {},
   "outputs": [
    {
     "name": "stderr",
     "output_type": "stream",
     "text": [
      "/tmp/ipykernel_207714/2739288256.py:4: FutureWarning: Downcasting behavior in `replace` is deprecated and will be removed in a future version. To retain the old behavior, explicitly call `result.infer_objects(copy=False)`. To opt-in to the future behavior, set `pd.set_option('future.no_silent_downcasting', True)`\n",
      "  clean_data_df['FAMI_TIENEAUTOMOVIL'] = clean_data_df['FAMI_TIENEAUTOMOVIL'].replace('No', 0)\n",
      "/tmp/ipykernel_207714/2739288256.py:6: FutureWarning: Downcasting behavior in `replace` is deprecated and will be removed in a future version. To retain the old behavior, explicitly call `result.infer_objects(copy=False)`. To opt-in to the future behavior, set `pd.set_option('future.no_silent_downcasting', True)`\n",
      "  clean_data_df['FAMI_TIENELAVADORA'] = clean_data_df['FAMI_TIENELAVADORA'].replace('No', 0)\n",
      "/tmp/ipykernel_207714/2739288256.py:8: FutureWarning: Downcasting behavior in `replace` is deprecated and will be removed in a future version. To retain the old behavior, explicitly call `result.infer_objects(copy=False)`. To opt-in to the future behavior, set `pd.set_option('future.no_silent_downcasting', True)`\n",
      "  clean_data_df['FAMI_TIENECOMPUTADOR'] = clean_data_df['FAMI_TIENECOMPUTADOR'].replace('No', 0)\n",
      "/tmp/ipykernel_207714/2739288256.py:10: FutureWarning: Downcasting behavior in `replace` is deprecated and will be removed in a future version. To retain the old behavior, explicitly call `result.infer_objects(copy=False)`. To opt-in to the future behavior, set `pd.set_option('future.no_silent_downcasting', True)`\n",
      "  clean_data_df['FAMI_TIENEINTERNET'] = clean_data_df['FAMI_TIENEINTERNET'].replace('No', 0)\n",
      "/tmp/ipykernel_207714/2739288256.py:12: FutureWarning: Downcasting behavior in `replace` is deprecated and will be removed in a future version. To retain the old behavior, explicitly call `result.infer_objects(copy=False)`. To opt-in to the future behavior, set `pd.set_option('future.no_silent_downcasting', True)`\n",
      "  clean_data_df['ESTU_PAGOMATRICULAPROPIO'] = clean_data_df['ESTU_PAGOMATRICULAPROPIO'].replace('No', 0)\n"
     ]
    }
   ],
   "source": [
    "# Las preguntas de Si y No serán 1 y 0\n",
    "# FAMI_TIENEAUTOMOVIL, FAMI_TIENELAVADORA, FAMI_TIENECOMPUTADOR, FAMI_TIENEINTERNET, ESTU_PAGOMATRICULAPROPIO\n",
    "clean_data_df['FAMI_TIENEAUTOMOVIL'] = clean_data_df['FAMI_TIENEAUTOMOVIL'].replace('Si', 1)\n",
    "clean_data_df['FAMI_TIENEAUTOMOVIL'] = clean_data_df['FAMI_TIENEAUTOMOVIL'].replace('No', 0)\n",
    "clean_data_df['FAMI_TIENELAVADORA'] = clean_data_df['FAMI_TIENELAVADORA'].replace('Si', 1)\n",
    "clean_data_df['FAMI_TIENELAVADORA'] = clean_data_df['FAMI_TIENELAVADORA'].replace('No', 0)\n",
    "clean_data_df['FAMI_TIENECOMPUTADOR'] = clean_data_df['FAMI_TIENECOMPUTADOR'].replace('Si', 1)\n",
    "clean_data_df['FAMI_TIENECOMPUTADOR'] = clean_data_df['FAMI_TIENECOMPUTADOR'].replace('No', 0)\n",
    "clean_data_df['FAMI_TIENEINTERNET'] = clean_data_df['FAMI_TIENEINTERNET'].replace('Si', 1)\n",
    "clean_data_df['FAMI_TIENEINTERNET'] = clean_data_df['FAMI_TIENEINTERNET'].replace('No', 0)\n",
    "clean_data_df['ESTU_PAGOMATRICULAPROPIO'] = clean_data_df['ESTU_PAGOMATRICULAPROPIO'].replace('Si', 1)\n",
    "clean_data_df['ESTU_PAGOMATRICULAPROPIO'] = clean_data_df['ESTU_PAGOMATRICULAPROPIO'].replace('No', 0)"
   ]
  },
  {
   "cell_type": "code",
   "execution_count": 15,
   "metadata": {},
   "outputs": [
    {
     "name": "stdout",
     "output_type": "stream",
     "text": [
      "Columna: PERIODO\n",
      "[2018 2019 2020 2021 2022]\n",
      "\n",
      "Columna: ESTU_DEPTO_RESIDE\n",
      "['BOGOTÁ' 'CUNDINAMARCA' 'CALDAS' 'NARIÑO' 'VALLE' 'META' 'BOYACA'\n",
      " 'QUINDIO' 'TOLIMA' 'SANTANDER' 'CAUCA' 'HUILA' 'NORTE SANTANDER'\n",
      " 'SAN ANDRES' 'CAQUETA' 'CORDOBA' 'LA GUAJIRA' 'ANTIOQUIA' 'AMAZONAS'\n",
      " 'CASANARE' 'GUAINIA' 'RISARALDA']\n",
      "\n",
      "Columna: ESTU_PRGM_ACADEMICO\n",
      "['INGENIERIA FORESTAL' 'INGENIERIA CATASTRAL Y GEODESIA'\n",
      " 'INGENIERIA ELECTRICA' 'INGENIERIA INDUSTRIAL' 'INGENIERIA DE SISTEMAS'\n",
      " 'INGENIERIA ELECTRONICA' 'ARTES MUSICALES'\n",
      " 'LICENCIATURA EN EDUCACION BASICA CON ENFASIS EN CIENCIAS SOCIALES'\n",
      " 'INGENIERIA EN CONTROL'\n",
      " 'LICENCIATURA EN EDUCACION BASICA CON ENFASIS EN INGLES'\n",
      " 'INGENIERIA TOPOGRAFICA' 'INGENIERIA AMBIENTAL'\n",
      " 'LICENCIATURA EN BIOLOGIA'\n",
      " 'LICENCIATURA EN EDUCACION BASICA CON ENFASIS EN HUMANIDADES Y LENGUA CASTELLANA'\n",
      " 'INGENIERÍA SANITARIA' 'INGENIERIA DE PRODUCCION'\n",
      " 'LICENCIATURA EN PEDAGOGIA INFANTIL' 'ADMINISTRACION DEPORTIVA'\n",
      " 'ADMINISTRACION AMBIENTAL' 'ARTES PLASTICAS Y VISUALES'\n",
      " 'INGENIERIA CIVIL' 'INGENIERIA EN TELEMATICA'\n",
      " 'LICENCIATURA EN EDUCACION BASICA CON ENFASIS EN MATEMATICAS'\n",
      " 'INGENIERIA EN  TELECOMUNICACIONES' 'ARTES ESCENICAS'\n",
      " 'LICENCIATURA EN EDUCACI¿N ART¿STICA' 'ARTE DANZARIO'\n",
      " 'INGENIERIA MECANICA' 'LICENCIATURA EN QUIMICA' 'MATEMATICAS'\n",
      " 'LICENCIATURA EN EDUCACION BASICA CON ENFASIS EN EDUCACION ARTISTICA'\n",
      " 'LICENCIATURA  EN MATEMATICAS' 'LICENCIATURA EN FISICA'\n",
      " 'LICENCIATURA EN EDUCACION INFANTIL'\n",
      " 'INGENIERIA EN CONTROL Y AUTOMATIZACIÓN'\n",
      " 'COMUNICACION SOCIAL Y PERIODISMO'\n",
      " 'ARCHIVISTICA Y GESTION DE LA INFORMACION DIGITAL']\n",
      "\n",
      "Columna: ESTU_HORASSEMANATRABAJA\n",
      "['Entre 11 y 20 horas' 'Menos de 10 horas' 'Entre 21 y 30 horas' '0'\n",
      " 'Más de 30 horas']\n",
      "\n",
      "Columna: ESTU_GENERO\n",
      "['F' 'M']\n",
      "\n",
      "Columna: ESTU_PAGOMATRICULAPROPIO\n",
      "[1 0]\n",
      "\n",
      "Columna: FAMI_EDUCACIONPADRE\n",
      "['Educación profesional completa' 'Técnica o tecnológica completa'\n",
      " 'Secundaria (Bachillerato) incompleta' 'Primaria incompleta'\n",
      " 'Secundaria (Bachillerato) completa' 'Postgrado'\n",
      " 'Técnica o tecnológica incompleta' 'No sabe' 'Primaria completa'\n",
      " 'No Aplica' 'Educación profesional incompleta' 'Ninguno']\n",
      "\n",
      "Columna: FAMI_TIENEAUTOMOVIL\n",
      "[1 0]\n",
      "\n",
      "Columna: FAMI_TIENELAVADORA\n",
      "[1 0]\n",
      "\n",
      "Columna: FAMI_ESTRATOVIVIENDA\n",
      "[3 2 5 1 4 0 6]\n",
      "\n",
      "Columna: FAMI_TIENECOMPUTADOR\n",
      "[1 0]\n",
      "\n",
      "Columna: FAMI_TIENEINTERNET\n",
      "[1 0]\n",
      "\n",
      "Columna: FAMI_EDUCACIONMADRE\n",
      "['Educación profesional completa' 'Técnica o tecnológica completa'\n",
      " 'Secundaria (Bachillerato) completa'\n",
      " 'Secundaria (Bachillerato) incompleta' 'Primaria completa' 'Postgrado'\n",
      " 'Primaria incompleta' 'Técnica o tecnológica incompleta'\n",
      " 'Educación profesional incompleta' 'Ninguno' 'No Aplica' 'No sabe']\n",
      "\n",
      "Columna: AGE\n",
      "[22. 23. 21. 27. 26. 25. 24. 29. 28. 20. 19.]\n",
      "\n",
      "Columna: RENDIMIENTO\n",
      "['Alto' 'Medio' 'Bajo' 'Excelente']\n",
      "\n"
     ]
    }
   ],
   "source": [
    "for column in clean_data_df.columns:\n",
    "    print(f\"Columna: {column}\")\n",
    "    print(clean_data_df[column].unique())\n",
    "    print(\"\")"
   ]
  },
  {
   "cell_type": "code",
   "execution_count": 16,
   "metadata": {},
   "outputs": [],
   "source": [
    "# Generar un archivo de \"data_tranformed.csv\"\n",
    "clean_data_df.to_csv(\"raw_data/data_transformed.csv\", index=False)"
   ]
  }
 ],
 "metadata": {
  "kernelspec": {
   "display_name": "saber-pro",
   "language": "python",
   "name": "python3"
  },
  "language_info": {
   "codemirror_mode": {
    "name": "ipython",
    "version": 3
   },
   "file_extension": ".py",
   "mimetype": "text/x-python",
   "name": "python",
   "nbconvert_exporter": "python",
   "pygments_lexer": "ipython3",
   "version": "3.13.0"
  }
 },
 "nbformat": 4,
 "nbformat_minor": 2
}
