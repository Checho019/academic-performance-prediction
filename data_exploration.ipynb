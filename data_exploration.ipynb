{
 "cells": [
  {
   "cell_type": "code",
   "execution_count": 57,
   "metadata": {},
   "outputs": [],
   "source": [
    "import pandas as pd\n",
    "import numpy as np\n",
    "import matplotlib.pyplot as plt"
   ]
  },
  {
   "cell_type": "code",
   "execution_count": 58,
   "metadata": {},
   "outputs": [],
   "source": [
    "# universidad = 'UNIVERSIDAD DISTRITAL\"FRANCISCO JOSE DE CALDAS\"-BOGOTÁ D.C.'"
   ]
  },
  {
   "cell_type": "code",
   "execution_count": 59,
   "metadata": {},
   "outputs": [
    {
     "data": {
      "text/plain": [
       "Index(['PERIODO', 'ESTU_CONSECUTIVO', 'ESTU_TIPODOCUMENTO', 'ESTU_PAIS_RESIDE',\n",
       "       'ESTU_COD_RESIDE_DEPTO', 'ESTU_DEPTO_RESIDE', 'ESTU_COD_RESIDE_MCPIO',\n",
       "       'ESTU_MCPIO_RESIDE', 'ESTU_CODDANE_COLE_TERMINO',\n",
       "       'ESTU_COD_COLE_MCPIO_TERMINO', 'ESTU_COD_DEPTO_PRESENTACION',\n",
       "       'INST_COD_INSTITUCION', 'INST_NOMBRE_INSTITUCION',\n",
       "       'INST_CARACTER_ACADEMICO', 'ESTU_NUCLEO_PREGRADO',\n",
       "       'ESTU_INST_DEPARTAMENTO', 'ESTU_INST_CODMUNICIPIO',\n",
       "       'ESTU_INST_MUNICIPIO', 'ESTU_PRGM_ACADEMICO', 'ESTU_PRGM_DEPARTAMENTO',\n",
       "       'ESTU_PRGM_CODMUNICIPIO', 'ESTU_PRGM_MUNICIPIO',\n",
       "       'ESTU_NIVEL_PRGM_ACADEMICO', 'ESTU_METODO_PRGM',\n",
       "       'ESTU_VALORMATRICULAUNIVERSIDAD', 'ESTU_DEPTO_PRESENTACION',\n",
       "       'ESTU_COD_MCPIO_PRESENTACION', 'ESTU_MCPIO_PRESENTACION',\n",
       "       'ESTU_PAGOMATRICULABECA', 'ESTU_PAGOMATRICULACREDITO',\n",
       "       'ESTU_HORASSEMANATRABAJA', 'ESTU_SNIES_PRGMACADEMICO',\n",
       "       'ESTU_PRIVADO_LIBERTAD', 'ESTU_NACIONALIDAD', 'ESTU_ESTUDIANTE',\n",
       "       'ESTU_GENERO', 'ESTU_COLE_TERMINO', 'ESTU_PAGOMATRICULAPADRES',\n",
       "       'ESTU_ESTADOINVESTIGACION', 'ESTU_FECHANACIMIENTO',\n",
       "       'ESTU_PAGOMATRICULAPROPIO', 'ESTU_TIPODOCUMENTOSB11',\n",
       "       'FAMI_EDUCACIONPADRE', 'FAMI_TIENEAUTOMOVIL', 'FAMI_TIENELAVADORA',\n",
       "       'FAMI_ESTRATOVIVIENDA', 'FAMI_TIENECOMPUTADOR', 'FAMI_TIENEINTERNET',\n",
       "       'FAMI_EDUCACIONMADRE', 'INST_ORIGEN', 'MOD_RAZONA_CUANTITAT_PUNT',\n",
       "       'MOD_COMUNI_ESCRITA_PUNT', 'MOD_COMUNI_ESCRITA_DESEM',\n",
       "       'MOD_INGLES_DESEM', 'MOD_LECTURA_CRITICA_PUNT', 'MOD_INGLES_PUNT',\n",
       "       'MOD_COMPETEN_CIUDADA_PUNT'],\n",
       "      dtype='object')"
      ]
     },
     "execution_count": 59,
     "metadata": {},
     "output_type": "execute_result"
    }
   ],
   "source": [
    "UD_df = pd.read_csv(\"raw_data/ud.csv\")\n",
    "UD_df.columns"
   ]
  },
  {
   "cell_type": "code",
   "execution_count": 60,
   "metadata": {},
   "outputs": [
    {
     "name": "stdout",
     "output_type": "stream",
     "text": [
      "20\n"
     ]
    }
   ],
   "source": [
    "# extraer las columnas \n",
    "# ESTU_DEPTO_RESIDE -------------------- ¿Solo los de Bogotá? (No, todos los departamentos)\n",
    "# ESTU_PRGM_ACADEMICO ------------------ ¿Dejo el programa académico? ---- (Solo ingenieria)\n",
    "# ESTU_HORASSEMANATRABAJA -------------- ¿Cuanto tiempo trabaja a la semana? X\n",
    "# ESTU_ESTUDIANTE ---------------------- ¿Es estudiante o es individual? ---- (eliminar los individuales)\n",
    "# ESTU_GENERO -------------------------- ¿Genero? X\n",
    "# ESTU_FECHANACIMIENTO ----------------- ¿Fecha de nacimiento? X\n",
    "# ESTU_PAGOMATRICULAPROPIO ------------- ¿Paga usted mismo su matricula? x\n",
    "# FAMI_EDUCACIONPADRE ------------------ ¿Nivel de estudio del padre? X\n",
    "# FAMI_TIENEAUTOMOVIL ------------------ ¿Tiene automovil? X\n",
    "# FAMI_TIENELAVADORA ------------------- ¿Tiene lavadora? X\n",
    "# FAMI_ESTRATOVIVIENDA ----------------- ¿Estrato de la vivienda? X\n",
    "# FAMI_TIENECOMPUTADOR ----------------- ¿Tiene computador? X\n",
    "# FAMI_TIENEINTERNET ------------------- ¿Tiene internet? X\n",
    "# FAMI_EDUCACIONMADRE ------------------ ¿Nivel de estudio de la madre? X\n",
    "# MOD_RAZONA_CUANTITAT_PUNT ------------ ¿Puntaje Modulo Razonamiento Cuantitativo?\n",
    "# MOD_COMUNI_ESCRITA_PUNT -------------- ¿Puntaje Modulo Comunicación Escrita?\n",
    "# MOD_LECTURA_CRITICA_PUNT ------------- ¿Puntaje Modulo Lectura Crítica?\n",
    "# MOD_INGLES_PUNT ---------------------- ¿Puntaje Modulo Inglés?\n",
    "# MOD_COMPETEN_CIUDADA_PUNT ------------ ¿Puntaje Modulo Competencias Ciudadanas?\n",
    "# (calcular edad y calcular y el rendimiento en la prueba)\n",
    "# Todo en mayusculas\n",
    "columns = ['PERIODO','ESTU_DEPTO_RESIDE', 'ESTU_PRGM_ACADEMICO', 'ESTU_HORASSEMANATRABAJA', 'ESTU_ESTUDIANTE', 'ESTU_GENERO', 'ESTU_FECHANACIMIENTO', 'ESTU_PAGOMATRICULAPROPIO', 'FAMI_EDUCACIONPADRE', 'FAMI_TIENEAUTOMOVIL', 'FAMI_TIENELAVADORA', 'FAMI_ESTRATOVIVIENDA', 'FAMI_TIENECOMPUTADOR', 'FAMI_TIENEINTERNET', 'FAMI_EDUCACIONMADRE', 'MOD_RAZONA_CUANTITAT_PUNT', 'MOD_COMUNI_ESCRITA_PUNT', 'MOD_LECTURA_CRITICA_PUNT', 'MOD_INGLES_PUNT', 'MOD_COMPETEN_CIUDADA_PUNT']\n",
    "print(len(columns))\n",
    "UD_df = UD_df[columns]\n",
    "\n",
    "\n",
    "\n"
   ]
  },
  {
   "cell_type": "code",
   "execution_count": 61,
   "metadata": {},
   "outputs": [
    {
     "name": "stdout",
     "output_type": "stream",
     "text": [
      "<class 'pandas.core.frame.DataFrame'>\n",
      "RangeIndex: 10600 entries, 0 to 10599\n",
      "Data columns (total 20 columns):\n",
      " #   Column                     Non-Null Count  Dtype  \n",
      "---  ------                     --------------  -----  \n",
      " 0   PERIODO                    10600 non-null  int64  \n",
      " 1   ESTU_DEPTO_RESIDE          10587 non-null  object \n",
      " 2   ESTU_PRGM_ACADEMICO        10600 non-null  object \n",
      " 3   ESTU_HORASSEMANATRABAJA    9978 non-null   object \n",
      " 4   ESTU_ESTUDIANTE            10600 non-null  object \n",
      " 5   ESTU_GENERO                10596 non-null  object \n",
      " 6   ESTU_FECHANACIMIENTO       10600 non-null  object \n",
      " 7   ESTU_PAGOMATRICULAPROPIO   10548 non-null  object \n",
      " 8   FAMI_EDUCACIONPADRE        10132 non-null  object \n",
      " 9   FAMI_TIENEAUTOMOVIL        9901 non-null   object \n",
      " 10  FAMI_TIENELAVADORA         9946 non-null   object \n",
      " 11  FAMI_ESTRATOVIVIENDA       10017 non-null  object \n",
      " 12  FAMI_TIENECOMPUTADOR       9957 non-null   object \n",
      " 13  FAMI_TIENEINTERNET         10051 non-null  object \n",
      " 14  FAMI_EDUCACIONMADRE        10129 non-null  object \n",
      " 15  MOD_RAZONA_CUANTITAT_PUNT  10600 non-null  int64  \n",
      " 16  MOD_COMUNI_ESCRITA_PUNT    10539 non-null  float64\n",
      " 17  MOD_LECTURA_CRITICA_PUNT   10600 non-null  int64  \n",
      " 18  MOD_INGLES_PUNT            10599 non-null  float64\n",
      " 19  MOD_COMPETEN_CIUDADA_PUNT  10600 non-null  int64  \n",
      "dtypes: float64(2), int64(4), object(14)\n",
      "memory usage: 1.6+ MB\n"
     ]
    }
   ],
   "source": [
    "# conocer valores nulos, tipos de datos, en blanco, etc\n",
    "UD_df.info()"
   ]
  },
  {
   "cell_type": "code",
   "execution_count": 62,
   "metadata": {},
   "outputs": [
    {
     "name": "stdout",
     "output_type": "stream",
     "text": [
      "<class 'pandas.core.frame.DataFrame'>\n",
      "Index: 9673 entries, 0 to 10599\n",
      "Data columns (total 20 columns):\n",
      " #   Column                     Non-Null Count  Dtype  \n",
      "---  ------                     --------------  -----  \n",
      " 0   PERIODO                    9673 non-null   int64  \n",
      " 1   ESTU_DEPTO_RESIDE          9673 non-null   object \n",
      " 2   ESTU_PRGM_ACADEMICO        9673 non-null   object \n",
      " 3   ESTU_HORASSEMANATRABAJA    9673 non-null   object \n",
      " 4   ESTU_ESTUDIANTE            9673 non-null   object \n",
      " 5   ESTU_GENERO                9673 non-null   object \n",
      " 6   ESTU_FECHANACIMIENTO       9673 non-null   object \n",
      " 7   ESTU_PAGOMATRICULAPROPIO   9673 non-null   object \n",
      " 8   FAMI_EDUCACIONPADRE        9673 non-null   object \n",
      " 9   FAMI_TIENEAUTOMOVIL        9673 non-null   object \n",
      " 10  FAMI_TIENELAVADORA         9673 non-null   object \n",
      " 11  FAMI_ESTRATOVIVIENDA       9673 non-null   object \n",
      " 12  FAMI_TIENECOMPUTADOR       9673 non-null   object \n",
      " 13  FAMI_TIENEINTERNET         9673 non-null   object \n",
      " 14  FAMI_EDUCACIONMADRE        9673 non-null   object \n",
      " 15  MOD_RAZONA_CUANTITAT_PUNT  9673 non-null   int64  \n",
      " 16  MOD_COMUNI_ESCRITA_PUNT    9673 non-null   float64\n",
      " 17  MOD_LECTURA_CRITICA_PUNT   9673 non-null   int64  \n",
      " 18  MOD_INGLES_PUNT            9673 non-null   float64\n",
      " 19  MOD_COMPETEN_CIUDADA_PUNT  9673 non-null   int64  \n",
      "dtypes: float64(2), int64(4), object(14)\n",
      "memory usage: 1.5+ MB\n"
     ]
    }
   ],
   "source": [
    "# eliminar valores nulos\n",
    "UD_df = UD_df.dropna()\n",
    "UD_df.info()"
   ]
  },
  {
   "cell_type": "code",
   "execution_count": 63,
   "metadata": {},
   "outputs": [
    {
     "name": "stdout",
     "output_type": "stream",
     "text": [
      "Columna: PERIODO\n",
      "[20183 20195 20203 20212 20196 20225 20222]\n",
      "\n",
      "Columna: ESTU_DEPTO_RESIDE\n",
      "['BOGOTÁ' 'CUNDINAMARCA' 'CALDAS' 'NARIÑO' 'VALLE' 'META' 'BOYACA'\n",
      " 'QUINDIO' 'TOLIMA' 'SANTANDER' 'CAUCA' 'HUILA' 'NORTE SANTANDER'\n",
      " 'SAN ANDRES' 'CAQUETA' 'CASANARE' 'CORDOBA' 'LA GUAJIRA' 'RISARALDA'\n",
      " 'ATLANTICO' 'ANTIOQUIA' 'AMAZONAS' 'GUAINIA' 'ARAUCA']\n",
      "\n",
      "Columna: ESTU_PRGM_ACADEMICO\n",
      "['INGENIERIA FORESTAL' 'INGENIERIA CATASTRAL Y GEODESIA'\n",
      " 'INGENIERIA ELECTRICA' 'INGENIERIA EN TELEMATICA' 'INGENIERIA INDUSTRIAL'\n",
      " 'INGENIERIA DE SISTEMAS' 'INGENIERIA ELECTRONICA' 'ARTES MUSICALES'\n",
      " 'INGENIERIA EN CONTROL'\n",
      " 'LICENCIATURA EN EDUCACION BASICA CON ENFASIS EN CIENCIAS SOCIALES'\n",
      " 'LICENCIATURA EN EDUCACION BASICA CON ENFASIS EN INGLES'\n",
      " 'INGENIERIA TOPOGRAFICA' 'INGENIERIA AMBIENTAL'\n",
      " 'LICENCIATURA EN BIOLOGIA'\n",
      " 'LICENCIATURA EN EDUCACION BASICA CON ENFASIS EN HUMANIDADES Y LENGUA CASTELLANA'\n",
      " 'ARTES ESCENICAS' 'INGENIERÍA SANITARIA' 'INGENIERIA DE PRODUCCION'\n",
      " 'LICENCIATURA EN PEDAGOGIA INFANTIL' 'ADMINISTRACION DEPORTIVA'\n",
      " 'ADMINISTRACION AMBIENTAL' 'LICENCIATURA EN EDUCACI¿N ART¿STICA'\n",
      " 'ARTES PLASTICAS Y VISUALES' 'INGENIERIA CIVIL'\n",
      " 'LICENCIATURA EN EDUCACION BASICA CON ENFASIS EN MATEMATICAS'\n",
      " 'INGENIERIA EN  TELECOMUNICACIONES' 'ARTE DANZARIO' 'INGENIERIA MECANICA'\n",
      " 'LICENCIATURA EN QUIMICA' 'MATEMATICAS'\n",
      " 'LICENCIATURA EN EDUCACION BASICA CON ENFASIS EN EDUCACION ARTISTICA'\n",
      " 'LICENCIATURA EN FISICA' 'LICENCIATURA  EN MATEMATICAS'\n",
      " 'LICENCIATURA EN EDUCACION INFANTIL'\n",
      " 'INGENIERIA EN CONTROL Y AUTOMATIZACIÓN'\n",
      " 'COMUNICACION SOCIAL Y PERIODISMO'\n",
      " 'ARCHIVISTICA Y GESTION DE LA INFORMACION DIGITAL']\n",
      "\n",
      "Columna: ESTU_HORASSEMANATRABAJA\n",
      "['Entre 11 y 20 horas' 'Menos de 10 horas' 'Entre 21 y 30 horas'\n",
      " 'Más de 30 horas' '0']\n",
      "\n",
      "Columna: ESTU_ESTUDIANTE\n",
      "['ESTUDIANTE']\n",
      "\n",
      "Columna: ESTU_GENERO\n",
      "['F' 'M']\n",
      "\n",
      "Columna: ESTU_FECHANACIMIENTO\n",
      "['28/01/1996' '14/03/1995' '08/11/1997' ... '26/06/1999' '15/12/1989'\n",
      " '30/01/1986']\n",
      "\n",
      "Columna: ESTU_PAGOMATRICULAPROPIO\n",
      "['Si' 'No']\n",
      "\n",
      "Columna: FAMI_EDUCACIONPADRE\n",
      "['Educación profesional completa' 'Técnica o tecnológica completa'\n",
      " 'Primaria completa' 'Secundaria (Bachillerato) incompleta'\n",
      " 'Primaria incompleta' 'Secundaria (Bachillerato) completa' 'Postgrado'\n",
      " 'Ninguno' 'No Aplica' 'Técnica o tecnológica incompleta' 'No sabe'\n",
      " 'Educación profesional incompleta']\n",
      "\n",
      "Columna: FAMI_TIENEAUTOMOVIL\n",
      "['Si' 'No']\n",
      "\n",
      "Columna: FAMI_TIENELAVADORA\n",
      "['Si' 'No']\n",
      "\n",
      "Columna: FAMI_ESTRATOVIVIENDA\n",
      "['Estrato 3' 'Estrato 2' 'Estrato 5' 'Estrato 1' 'Sin Estrato' 'Estrato 4'\n",
      " 'Estrato 6']\n",
      "\n",
      "Columna: FAMI_TIENECOMPUTADOR\n",
      "['Si' 'No']\n",
      "\n",
      "Columna: FAMI_TIENEINTERNET\n",
      "['Si' 'No']\n",
      "\n",
      "Columna: FAMI_EDUCACIONMADRE\n",
      "['Educación profesional completa' 'Técnica o tecnológica completa'\n",
      " 'Secundaria (Bachillerato) completa' 'Primaria completa'\n",
      " 'Secundaria (Bachillerato) incompleta' 'Postgrado' 'Primaria incompleta'\n",
      " 'No Aplica' 'Técnica o tecnológica incompleta'\n",
      " 'Educación profesional incompleta' 'Ninguno' 'No sabe']\n",
      "\n",
      "Columna: MOD_RAZONA_CUANTITAT_PUNT\n",
      "[194 189 168 212 199 172 160 181 161 117 173 121 228 186 200 216 196 143\n",
      "  79 133 205 162 198 125 195 170 153 144 138 197 155 127 184 177 104 152\n",
      " 224 188 163 169 208 210 171 158 156 201 178 300 193 209 187 147 120 148\n",
      " 151 185 166 180 123 164 135 215 202 146 191 154 183 230 211 175 165 140\n",
      " 174 218 190 213 142 219 176 227 204 157 167 145 179 182 221 134 214 159\n",
      " 217 207  76 150 137 136 192 113 110 149 203 114 206 223 126 118 105 139\n",
      " 225 222 122  89  96 220 112 132 130 141 124 109 115 128 229  86 226 119\n",
      " 131 129 107  92 102  87 234  97 108 116  81  98  93 232 106 103 235  99\n",
      "  75 233 111  69 100  88 101  95  78 231  74  91  80  84 236  90  94  85\n",
      "  70  77  67]\n",
      "\n",
      "Columna: MOD_COMUNI_ESCRITA_PUNT\n",
      "[213. 171. 123. 192. 152. 206. 161.  89. 113. 106. 188. 145. 137. 173.\n",
      " 136. 126. 163. 182. 158. 180. 168. 112. 134. 186. 162. 193. 195. 159.\n",
      " 110. 175. 103. 203. 135. 154. 125. 101. 140. 157. 187. 131. 174. 164.\n",
      " 179. 177. 142. 108. 189. 127. 130. 185.   0. 176. 128. 172. 133. 197.\n",
      " 148. 105. 190.  97. 146. 198. 115. 141. 129. 166. 149. 160. 219. 194.\n",
      " 138. 132. 181. 191. 124. 147. 215. 118. 212. 183. 178. 170. 139. 107.\n",
      " 184. 167. 300. 116.  81. 211. 120.  94.  90. 202. 153. 151. 169. 143.\n",
      " 214. 156. 144. 208. 150. 210.  92. 201.  96. 100. 122. 117. 121. 234.\n",
      " 204. 196. 165.  95. 155.  98. 114. 209. 109. 218.  91.  93. 199. 227.\n",
      " 216. 200.  88.  79. 111. 223. 104.  99. 119. 220. 102. 231.  76. 207.\n",
      "  80.  74.  62. 205. 233. 222.  63.  87. 217. 229. 226.  73.  77.  84.\n",
      " 228.  83.  82. 221. 230.  68.  85.  75. 225. 232.  86. 224.  66.  72.\n",
      "  69.  78.]\n",
      "\n",
      "Columna: MOD_LECTURA_CRITICA_PUNT\n",
      "[197 182 165 132 193 178 155 159 209 108 141 180 118 190 183 120 184 186\n",
      " 212 196 146 173 122 164 175 179 207 158 181 177 192 167 194 145 199 124\n",
      " 168 213 195 216 176 115 138 201 133 151 202 152 171 206 147 162 198 154\n",
      " 142 161 157 160 203 187 134 169 139  96 204 200 170 189 210 163 185 174\n",
      " 217 144 135 109 156 224 136 130 129 188 137 143 218 148 153 191 149 215\n",
      " 222 172 214 150 166 125 111 126 140 114 205 119 211 116 102 223 131  90\n",
      " 227 220 127 219 121 117 226 208 110  91 123 128 230 229  93  99 105 104\n",
      " 225 300 100 231 221  97 101 228  79  98 106 233 113 112 107 235  95  94\n",
      " 232  72  74  92  66  77 103 236 234  73  86  78  62  69  71  84  75  70\n",
      "  67]\n",
      "\n",
      "Columna: MOD_INGLES_PUNT\n",
      "[193. 158. 153. 130. 171. 165. 142. 185. 183. 192. 109. 182. 188. 173.\n",
      " 300. 157. 163. 189. 162. 144. 178. 154. 106. 135. 210. 138. 200. 166.\n",
      " 190. 184. 201. 194. 156. 150. 155. 204. 133. 180. 175. 174. 146. 170.\n",
      " 179. 147. 168. 206. 141. 187. 209.  99. 224. 196. 149. 148. 186. 181.\n",
      "  86. 167. 151. 128. 172. 161. 202. 215. 214. 176. 136. 159. 131. 139.\n",
      " 169. 160. 207. 225. 195. 143. 177. 152. 164. 197.  97. 199. 145. 122.\n",
      " 203. 126. 223. 140. 198. 221. 132. 212. 124. 191. 229. 211. 205. 217.\n",
      " 101. 137. 222. 100. 121. 216. 118. 230. 218. 125. 220. 114. 129. 208.\n",
      " 102. 110. 116. 120. 134. 226. 117. 213. 127. 107. 231. 111. 105. 113.\n",
      " 228. 103.  83.   0.  92. 123.  79.  96. 112.  91. 108.  94. 119.  95.\n",
      " 104. 115. 219. 232.  80.  98.  74.  89. 227.  88.  93.  90.]\n",
      "\n",
      "Columna: MOD_COMPETEN_CIUDADA_PUNT\n",
      "[187 134 135 137 172 181 128 176 158 126 156 171 168 163 186 141 202 196\n",
      " 300 173 184 199 183  84 130 104 169 178 189 188 192 157 207 150 101 216\n",
      " 175 179 144 197 100 162 152 212 167 166 164 204 225 121 154 194 159 139\n",
      " 160 111 122 185 108 143 110 191 203 142 201 224 210 161 193 146 180 174\n",
      " 198 118 124  80 155 190 140 147 215 177 148 206 170 200 165 195 129 217\n",
      "  99 145 116 182 136 153 133 223 127 205 112 214  77 221 151  92 125 149\n",
      " 211 209 131 115 109  78 220 113 123  76 107  96 117 105 231  85 119 213\n",
      " 132 106 102 219 208 226 103  89  79 222  98 120  83 114  93  66  81 138\n",
      "  95  86  88  75  97  91  74  94  68 232  87 229 227  72  70 228  82  69\n",
      " 218  90  67  63  62  71  60  73  64]\n",
      "\n"
     ]
    }
   ],
   "source": [
    "# Obtener valores unicos por cada columna\n",
    "for column in UD_df.columns:\n",
    "    print(f\"Columna: {column}\")\n",
    "    print(UD_df[column].unique())\n",
    "    print(\"\")"
   ]
  },
  {
   "cell_type": "code",
   "execution_count": 64,
   "metadata": {},
   "outputs": [],
   "source": [
    "# Obtener el año de \"PERIODO\" que corresponde a los cuatro primeros digitos\n",
    "UD_df['PERIODO'] = UD_df['PERIODO'].astype(str)\n",
    "UD_df['PERIODO'] = UD_df['PERIODO'].str[:4]\n",
    "UD_df['PERIODO'] = UD_df['PERIODO'].astype(int)"
   ]
  },
  {
   "cell_type": "code",
   "execution_count": 65,
   "metadata": {},
   "outputs": [
    {
     "name": "stdout",
     "output_type": "stream",
     "text": [
      "<class 'pandas.core.frame.DataFrame'>\n",
      "Index: 9673 entries, 0 to 10599\n",
      "Data columns (total 20 columns):\n",
      " #   Column                     Non-Null Count  Dtype  \n",
      "---  ------                     --------------  -----  \n",
      " 0   PERIODO                    9673 non-null   int64  \n",
      " 1   ESTU_DEPTO_RESIDE          9673 non-null   object \n",
      " 2   ESTU_PRGM_ACADEMICO        9673 non-null   object \n",
      " 3   ESTU_HORASSEMANATRABAJA    9673 non-null   object \n",
      " 4   ESTU_ESTUDIANTE            9673 non-null   object \n",
      " 5   ESTU_GENERO                9673 non-null   object \n",
      " 6   ESTU_FECHANACIMIENTO       9673 non-null   object \n",
      " 7   ESTU_PAGOMATRICULAPROPIO   9673 non-null   object \n",
      " 8   FAMI_EDUCACIONPADRE        9673 non-null   object \n",
      " 9   FAMI_TIENEAUTOMOVIL        9673 non-null   object \n",
      " 10  FAMI_TIENELAVADORA         9673 non-null   object \n",
      " 11  FAMI_ESTRATOVIVIENDA       9673 non-null   object \n",
      " 12  FAMI_TIENECOMPUTADOR       9673 non-null   object \n",
      " 13  FAMI_TIENEINTERNET         9673 non-null   object \n",
      " 14  FAMI_EDUCACIONMADRE        9673 non-null   object \n",
      " 15  MOD_RAZONA_CUANTITAT_PUNT  9673 non-null   int64  \n",
      " 16  MOD_COMUNI_ESCRITA_PUNT    9673 non-null   float64\n",
      " 17  MOD_LECTURA_CRITICA_PUNT   9673 non-null   int64  \n",
      " 18  MOD_INGLES_PUNT            9673 non-null   float64\n",
      " 19  MOD_COMPETEN_CIUDADA_PUNT  9673 non-null   int64  \n",
      "dtypes: float64(2), int64(4), object(14)\n",
      "memory usage: 1.5+ MB\n"
     ]
    }
   ],
   "source": [
    "UD_df.info()"
   ]
  },
  {
   "cell_type": "code",
   "execution_count": 66,
   "metadata": {},
   "outputs": [
    {
     "data": {
      "text/plain": [
       "array([ 22.,  23.,  21.,  33.,  27.,  26.,  25.,  31.,  24.,  32.,  37.,\n",
       "        35.,  30.,  29.,  28.,  38.,  44.,  20.,  42.,  40.,  34.,  41.,\n",
       "        39.,  36.,  52.,  43.,  47.,  50.,  54.,  45.,  55.,  48.,   0.,\n",
       "        51.,  57.,  19.,  46., 118.,  nan,  59.,  56.,  49.])"
      ]
     },
     "execution_count": 66,
     "metadata": {},
     "output_type": "execute_result"
    }
   ],
   "source": [
    "# Date format = 28/01/1996 (calculate age) using \"Periodo\" column\n",
    "UD_df['AUX'] = pd.to_datetime(UD_df['ESTU_FECHANACIMIENTO'], format='%d/%m/%Y', errors='coerce')\n",
    "UD_df['AGE'] = UD_df['PERIODO'] - UD_df['AUX'].dt.year\n",
    "UD_df['AGE'].unique()"
   ]
  },
  {
   "cell_type": "code",
   "execution_count": 67,
   "metadata": {},
   "outputs": [],
   "source": [
    "# Eliminar valores nulos y las edades que son 0 o 118\n",
    "UD_df = UD_df.dropna()\n",
    "UD_df = UD_df[UD_df['AGE'] != 0]\n",
    "UD_df = UD_df[UD_df['AGE'] != 118]"
   ]
  },
  {
   "cell_type": "code",
   "execution_count": 68,
   "metadata": {},
   "outputs": [
    {
     "data": {
      "image/png": "[encoded data removed]",
      "text/plain": [
       "<Figure size 640x480 with 1 Axes>"
      ]
     },
     "metadata": {},
     "output_type": "display_data"
    }
   ],
   "source": [
    "# Grafica de frecuencia de las edades\n",
    "plt.hist(UD_df['AGE'], bins=10, edgecolor='black')\n",
    "plt.title('Frecuencia de edades')\n",
    "plt.xlabel('Edad')\n",
    "plt.ylabel('Frecuencia')\n",
    "plt.show()\n",
    "\n"
   ]
  },
  {
   "cell_type": "code",
   "execution_count": 69,
   "metadata": {},
   "outputs": [
    {
     "data": {
      "image/png": "[encoded data removed]",
      "text/plain": [
       "<Figure size 640x480 with 1 Axes>"
      ]
     },
     "metadata": {},
     "output_type": "display_data"
    }
   ],
   "source": [
    "# Diagrama de  cajas y bigotes de la edad\n",
    "plt.boxplot(UD_df['AGE'])\n",
    "plt.title('Diagrama de cajas y bigotes de la edad')\n",
    "plt.ylabel('Edad')\n",
    "plt.show()"
   ]
  },
  {
   "cell_type": "code",
   "execution_count": 70,
   "metadata": {},
   "outputs": [
    {
     "data": {
      "image/png": "[encoded data removed]",
      "text/plain": [
       "<Figure size 640x480 with 1 Axes>"
      ]
     },
     "metadata": {},
     "output_type": "display_data"
    }
   ],
   "source": [
    "# Eliminación de outlayers en la edad (edad > 30\n",
    "UD_df = UD_df[UD_df['AGE'] < 30]\n",
    "plt.boxplot(UD_df['AGE'])\n",
    "plt.title('Diagrama de cajas y bigotes de la edad')\n",
    "plt.ylabel('Edad')\n",
    "plt.show()"
   ]
  },
  {
   "cell_type": "code",
   "execution_count": 71,
   "metadata": {},
   "outputs": [
    {
     "data": {
      "image/png": "[encoded data removed]",
      "text/plain": [
       "<Figure size 640x480 with 1 Axes>"
      ]
     },
     "metadata": {},
     "output_type": "display_data"
    }
   ],
   "source": [
    "# Grafica de frecuencia de las edades\n",
    "plt.hist(UD_df['AGE'], bins=10, edgecolor='black')\n",
    "plt.title('Frecuencia de edades')\n",
    "plt.xlabel('Edad')\n",
    "plt.ylabel('Frecuencia')\n",
    "plt.show()"
   ]
  },
  {
   "cell_type": "code",
   "execution_count": 72,
   "metadata": {},
   "outputs": [],
   "source": [
    "UD_df.drop(columns=['AUX','ESTU_ESTUDIANTE','ESTU_FECHANACIMIENTO'], inplace=True)"
   ]
  },
  {
   "cell_type": "code",
   "execution_count": 73,
   "metadata": {},
   "outputs": [
    {
     "name": "stdout",
     "output_type": "stream",
     "text": [
      "Columna: PERIODO\n",
      "[2018 2019 2020 2021 2022]\n",
      "\n",
      "Columna: ESTU_DEPTO_RESIDE\n",
      "['BOGOTÁ' 'CUNDINAMARCA' 'CALDAS' 'NARIÑO' 'VALLE' 'META' 'BOYACA'\n",
      " 'QUINDIO' 'TOLIMA' 'SANTANDER' 'CAUCA' 'HUILA' 'NORTE SANTANDER'\n",
      " 'SAN ANDRES' 'CAQUETA' 'CORDOBA' 'LA GUAJIRA' 'ANTIOQUIA' 'AMAZONAS'\n",
      " 'CASANARE' 'GUAINIA' 'RISARALDA']\n",
      "\n",
      "Columna: ESTU_PRGM_ACADEMICO\n",
      "['INGENIERIA FORESTAL' 'INGENIERIA CATASTRAL Y GEODESIA'\n",
      " 'INGENIERIA ELECTRICA' 'INGENIERIA INDUSTRIAL' 'INGENIERIA DE SISTEMAS'\n",
      " 'INGENIERIA ELECTRONICA' 'ARTES MUSICALES'\n",
      " 'LICENCIATURA EN EDUCACION BASICA CON ENFASIS EN CIENCIAS SOCIALES'\n",
      " 'INGENIERIA EN CONTROL'\n",
      " 'LICENCIATURA EN EDUCACION BASICA CON ENFASIS EN INGLES'\n",
      " 'INGENIERIA TOPOGRAFICA' 'INGENIERIA AMBIENTAL'\n",
      " 'LICENCIATURA EN BIOLOGIA'\n",
      " 'LICENCIATURA EN EDUCACION BASICA CON ENFASIS EN HUMANIDADES Y LENGUA CASTELLANA'\n",
      " 'INGENIERÍA SANITARIA' 'INGENIERIA DE PRODUCCION'\n",
      " 'LICENCIATURA EN PEDAGOGIA INFANTIL' 'ADMINISTRACION DEPORTIVA'\n",
      " 'ADMINISTRACION AMBIENTAL' 'ARTES PLASTICAS Y VISUALES'\n",
      " 'INGENIERIA CIVIL' 'INGENIERIA EN TELEMATICA'\n",
      " 'LICENCIATURA EN EDUCACION BASICA CON ENFASIS EN MATEMATICAS'\n",
      " 'INGENIERIA EN  TELECOMUNICACIONES' 'ARTES ESCENICAS'\n",
      " 'LICENCIATURA EN EDUCACI¿N ART¿STICA' 'ARTE DANZARIO'\n",
      " 'INGENIERIA MECANICA' 'LICENCIATURA EN QUIMICA' 'MATEMATICAS'\n",
      " 'LICENCIATURA EN EDUCACION BASICA CON ENFASIS EN EDUCACION ARTISTICA'\n",
      " 'LICENCIATURA  EN MATEMATICAS' 'LICENCIATURA EN FISICA'\n",
      " 'LICENCIATURA EN EDUCACION INFANTIL'\n",
      " 'INGENIERIA EN CONTROL Y AUTOMATIZACIÓN'\n",
      " 'COMUNICACION SOCIAL Y PERIODISMO'\n",
      " 'ARCHIVISTICA Y GESTION DE LA INFORMACION DIGITAL']\n",
      "\n",
      "Columna: ESTU_HORASSEMANATRABAJA\n",
      "['Entre 11 y 20 horas' 'Menos de 10 horas' 'Entre 21 y 30 horas' '0'\n",
      " 'Más de 30 horas']\n",
      "\n",
      "Columna: ESTU_GENERO\n",
      "['F' 'M']\n",
      "\n",
      "Columna: ESTU_PAGOMATRICULAPROPIO\n",
      "['Si' 'No']\n",
      "\n",
      "Columna: FAMI_EDUCACIONPADRE\n",
      "['Educación profesional completa' 'Técnica o tecnológica completa'\n",
      " 'Secundaria (Bachillerato) incompleta' 'Primaria incompleta'\n",
      " 'Secundaria (Bachillerato) completa' 'Postgrado'\n",
      " 'Técnica o tecnológica incompleta' 'No sabe' 'Primaria completa'\n",
      " 'No Aplica' 'Educación profesional incompleta' 'Ninguno']\n",
      "\n",
      "Columna: FAMI_TIENEAUTOMOVIL\n",
      "['Si' 'No']\n",
      "\n",
      "Columna: FAMI_TIENELAVADORA\n",
      "['Si' 'No']\n",
      "\n",
      "Columna: FAMI_ESTRATOVIVIENDA\n",
      "['Estrato 3' 'Estrato 2' 'Estrato 5' 'Estrato 1' 'Estrato 4' 'Sin Estrato'\n",
      " 'Estrato 6']\n",
      "\n",
      "Columna: FAMI_TIENECOMPUTADOR\n",
      "['Si' 'No']\n",
      "\n",
      "Columna: FAMI_TIENEINTERNET\n",
      "['Si' 'No']\n",
      "\n",
      "Columna: FAMI_EDUCACIONMADRE\n",
      "['Educación profesional completa' 'Técnica o tecnológica completa'\n",
      " 'Secundaria (Bachillerato) completa'\n",
      " 'Secundaria (Bachillerato) incompleta' 'Primaria completa' 'Postgrado'\n",
      " 'Primaria incompleta' 'Técnica o tecnológica incompleta'\n",
      " 'Educación profesional incompleta' 'Ninguno' 'No Aplica' 'No sabe']\n",
      "\n",
      "Columna: MOD_RAZONA_CUANTITAT_PUNT\n",
      "[194 189 212 199 172 160 181 117 168 173 228 186 200 216 196 143 205 162\n",
      " 198 125 195 170 153 144 138 197 155 127 184 177 104 152 224 188 163 169\n",
      " 208 210 171 158 156 201 178 300 193 209 187 147 120 151 185 166 180 123\n",
      " 164 135 215 202 146 191 154 183 230 211 175 165 140 174 218 148 190 142\n",
      " 219 161 176 227 204 167 145 179 213 182 221 134 214 217 207  76 150 157\n",
      " 137 159 136 192 113 110 149 203 114 206 223 133 126 105 139 225 222 122\n",
      "  89 220 112 132 130 141 124 109 128 229  86 226 119 131 129 107 118 102\n",
      "  87 234  97 108 116  81  98  93 232 106 103  92 235  99 121  75 233 111\n",
      "  69 100  88 115 101  95 231  74  80  78  84 236  79  90  94  91  85  70\n",
      "  96  77  67]\n",
      "\n",
      "Columna: MOD_COMUNI_ESCRITA_PUNT\n",
      "[213. 171. 123. 152. 206. 161.  89. 113. 188. 145. 137. 173. 126. 163.\n",
      " 182. 158. 180. 186. 162. 193. 195. 159. 110. 175. 103. 203. 136. 135.\n",
      " 154. 101. 140. 157. 187. 131. 174. 164. 179. 177. 142. 108. 189. 127.\n",
      " 130. 185. 168.   0. 176. 128. 172. 133. 197. 148. 105. 190. 146. 198.\n",
      " 115. 141. 129. 166. 149. 160. 219. 134. 194. 138. 132. 181. 191. 124.\n",
      " 215. 118. 212. 183. 178. 170. 139. 107. 184. 147. 300. 116.  81. 211.\n",
      " 192. 120. 106.  94.  90. 202. 153. 151. 169. 143. 214. 167. 156. 144.\n",
      " 208. 150. 210.  92. 201.  96. 100. 122. 117. 121. 234. 204. 196. 125.\n",
      " 165.  95. 155.  98. 114.  97. 209. 109. 218.  91.  93. 199. 227. 200.\n",
      "  88.  79. 223. 104.  99. 119. 112. 111. 220. 216. 102. 231.  76. 207.\n",
      "  80.  74. 205. 233. 222.  63. 217. 229.  87. 226.  73.  77.  84. 228.\n",
      "  83.  82. 221.  62. 230.  68.  85.  75. 225. 232.  86. 224.  66.  72.\n",
      "  69.  78.]\n",
      "\n",
      "Columna: MOD_LECTURA_CRITICA_PUNT\n",
      "[197 182 165 193 178 155 159 209 108 180 118 190 183 184 186 212 196 164\n",
      " 175 179 173 207 158 181 177 192 167 194 199 124 145 168 213 195 216 176\n",
      " 115 138 201 133 151 202 152 206 147 162 198 154 161 157 146 160 187 134\n",
      " 169 139  96 204 170 189 210 163 185 174 217 203 135 109 224 136 156 200\n",
      " 129 130 188 137 143 218 148 153 191 171 149 222 172 214 142 150 166 111\n",
      " 141 144 140 114 125 205 119 126 211 215 120 116 223 131  90 227 220 127\n",
      " 219 117 226 102 208 110  91 128 230 229 132  93  99 123 105 104 225 300\n",
      " 100 231 221 122 101 228  79  98 106 233 113 112 107 121 235  95  94 232\n",
      "  72  74  77 236 234  73  97  92  78  62  69 103  71  84  75  70  67]\n",
      "\n",
      "Columna: MOD_INGLES_PUNT\n",
      "[193. 158. 153. 171. 165. 142. 185. 183. 192. 182. 188. 173. 300. 157.\n",
      " 163. 189. 162. 144. 178. 210. 138. 200. 166. 190. 184. 201. 194. 150.\n",
      " 155. 204. 133. 180. 175. 174. 146. 170. 179. 154. 147. 168. 206. 141.\n",
      " 187. 209.  99. 196. 149. 186. 181.  86. 151. 128. 135. 172. 161. 202.\n",
      " 215. 214. 148. 176. 136. 130. 131. 139. 169. 160. 207. 225. 195. 143.\n",
      " 156. 177. 159. 152. 164. 197. 199. 145. 122. 203. 126. 223. 167. 140.\n",
      " 198. 221. 132. 124. 191. 229. 212. 211. 205. 217. 101. 137. 222. 100.\n",
      " 121. 216. 230. 125. 220. 218. 114. 129. 118. 208. 102. 110. 116. 120.\n",
      " 213. 117. 127. 134. 107. 226. 111. 106. 105. 113. 109. 228. 103.  83.\n",
      "   0.  92. 224.  96. 123. 112.  91. 108.  94. 119.  95. 104. 219. 232.\n",
      "  80.  74.  89. 227. 231. 115.  88.  90.]\n",
      "\n",
      "Columna: MOD_COMPETEN_CIUDADA_PUNT\n",
      "[187 134 135 172 181 128 176 158 126 171 168 163 186 202 196 300 173 184\n",
      " 199 183 169 178 189 188 192 157 207 150 101 216 175 179 144 197 100 162\n",
      " 152 212 167 166 164 225 156 121 154 159 139 111 122 185 130 108 143 110\n",
      " 191 142 201 224 210 161 193 146 180 174 198 118 124  80 155 190 140 203\n",
      " 147 215 177 148 194 206 170 200 165 195 217  84  99 145 116 141 182 160\n",
      " 136 153 133 223 204 127 205 112 214  77 221 151  92 104 125 149 211 209\n",
      " 131 115  78 220 113 123  76 107 117 105 231  85 119 213 129 106 137 102\n",
      " 219 208 103 109  89 132  79 222  98 120 226 114  93  66 138  95  96  86\n",
      "  97  91  74  94  68  88  83 232  87 229 227  72  81  70 228  75  82  69\n",
      " 218  90  67  63  62  60  73  64]\n",
      "\n",
      "Columna: AGE\n",
      "[22. 23. 21. 27. 26. 25. 24. 29. 28. 20. 19.]\n",
      "\n"
     ]
    }
   ],
   "source": [
    "for column in UD_df.columns:\n",
    "    print(f\"Columna: {column}\")\n",
    "    print(UD_df[column].unique())\n",
    "    print(\"\")"
   ]
  },
  {
   "cell_type": "code",
   "execution_count": 74,
   "metadata": {},
   "outputs": [
    {
     "data": {
      "text/plain": [
       "(array([  39.,  150.,  520., 1604., 2778., 2717., 1045.,   38.,    0.,\n",
       "          31.]),\n",
       " array([ 67. ,  90.3, 113.6, 136.9, 160.2, 183.5, 206.8, 230.1, 253.4,\n",
       "        276.7, 300. ]),\n",
       " <BarContainer object of 10 artists>)"
      ]
     },
     "execution_count": 74,
     "metadata": {},
     "output_type": "execute_result"
    },
    {
     "data": {
      "image/png": "[encoded data removed]",
      "text/plain": [
       "<Figure size 640x480 with 1 Axes>"
      ]
     },
     "metadata": {},
     "output_type": "display_data"
    }
   ],
   "source": [
    "# Construir histoggrama del MOD_RAZONA_CUANTITAT_PUNT\n",
    "plt.hist(UD_df['MOD_RAZONA_CUANTITAT_PUNT'], bins=10, edgecolor='black')"
   ]
  },
  {
   "cell_type": "code",
   "execution_count": 75,
   "metadata": {},
   "outputs": [
    {
     "name": "stdout",
     "output_type": "stream",
     "text": [
      "       PERIODO ESTU_DEPTO_RESIDE  \\\n",
      "69        2020            BOGOTÁ   \n",
      "145       2019            BOGOTÁ   \n",
      "148       2019            BOGOTÁ   \n",
      "291       2020            BOGOTÁ   \n",
      "471       2019      CUNDINAMARCA   \n",
      "...        ...               ...   \n",
      "10580     2022      CUNDINAMARCA   \n",
      "10581     2022            BOGOTÁ   \n",
      "10582     2022            BOGOTÁ   \n",
      "10586     2022      CUNDINAMARCA   \n",
      "10594     2022            BOGOTÁ   \n",
      "\n",
      "                                     ESTU_PRGM_ACADEMICO  \\\n",
      "69                                 INGENIERIA INDUSTRIAL   \n",
      "145    LICENCIATURA EN EDUCACION BASICA CON ENFASIS E...   \n",
      "148                      INGENIERIA CATASTRAL Y GEODESIA   \n",
      "291    LICENCIATURA EN EDUCACION BASICA CON ENFASIS E...   \n",
      "471                             ADMINISTRACION DEPORTIVA   \n",
      "...                                                  ...   \n",
      "10580                 LICENCIATURA EN PEDAGOGIA INFANTIL   \n",
      "10581                                        MATEMATICAS   \n",
      "10582                 LICENCIATURA EN PEDAGOGIA INFANTIL   \n",
      "10586                               INGENIERIA AMBIENTAL   \n",
      "10594                                INGENIERIA MECANICA   \n",
      "\n",
      "      ESTU_HORASSEMANATRABAJA ESTU_GENERO ESTU_PAGOMATRICULAPROPIO  \\\n",
      "69            Más de 30 horas           M                       Si   \n",
      "145           Más de 30 horas           F                       No   \n",
      "148           Más de 30 horas           M                       Si   \n",
      "291       Entre 21 y 30 horas           F                       Si   \n",
      "471           Más de 30 horas           F                       Si   \n",
      "...                       ...         ...                      ...   \n",
      "10580     Entre 11 y 20 horas           F                       Si   \n",
      "10581     Entre 21 y 30 horas           M                       Si   \n",
      "10582     Entre 21 y 30 horas           F                       Si   \n",
      "10586       Menos de 10 horas           F                       No   \n",
      "10594         Más de 30 horas           M                       Si   \n",
      "\n",
      "                        FAMI_EDUCACIONPADRE FAMI_TIENEAUTOMOVIL  \\\n",
      "69           Educación profesional completa                  Si   \n",
      "145    Secundaria (Bachillerato) incompleta                  No   \n",
      "148      Secundaria (Bachillerato) completa                  No   \n",
      "291          Educación profesional completa                  No   \n",
      "471          Técnica o tecnológica completa                  No   \n",
      "...                                     ...                 ...   \n",
      "10580                   Primaria incompleta                  No   \n",
      "10581                     Primaria completa                  Si   \n",
      "10582        Técnica o tecnológica completa                  No   \n",
      "10586                   Primaria incompleta                  No   \n",
      "10594        Educación profesional completa                  Si   \n",
      "\n",
      "      FAMI_TIENELAVADORA FAMI_ESTRATOVIVIENDA FAMI_TIENECOMPUTADOR  \\\n",
      "69                    Si            Estrato 2                   Si   \n",
      "145                   Si            Estrato 2                   Si   \n",
      "148                   Si            Estrato 3                   Si   \n",
      "291                   Si            Estrato 3                   Si   \n",
      "471                   Si            Estrato 1                   No   \n",
      "...                  ...                  ...                  ...   \n",
      "10580                 Si            Estrato 1                   Si   \n",
      "10581                 Si            Estrato 3                   Si   \n",
      "10582                 Si            Estrato 2                   No   \n",
      "10586                 Si            Estrato 1                   Si   \n",
      "10594                 Si            Estrato 2                   Si   \n",
      "\n",
      "      FAMI_TIENEINTERNET                   FAMI_EDUCACIONMADRE  \\\n",
      "69                    Si    Secundaria (Bachillerato) completa   \n",
      "145                   Si      Educación profesional incompleta   \n",
      "148                   Si        Técnica o tecnológica completa   \n",
      "291                   Si    Secundaria (Bachillerato) completa   \n",
      "471                   Si  Secundaria (Bachillerato) incompleta   \n",
      "...                  ...                                   ...   \n",
      "10580                 No  Secundaria (Bachillerato) incompleta   \n",
      "10581                 Si  Secundaria (Bachillerato) incompleta   \n",
      "10582                 Si      Técnica o tecnológica incompleta   \n",
      "10586                 Si                   Primaria incompleta   \n",
      "10594                 Si      Educación profesional incompleta   \n",
      "\n",
      "       MOD_RAZONA_CUANTITAT_PUNT  MOD_COMUNI_ESCRITA_PUNT  \\\n",
      "69                           209                      0.0   \n",
      "145                          123                      0.0   \n",
      "148                          185                      0.0   \n",
      "291                          137                      0.0   \n",
      "471                          166                      0.0   \n",
      "...                          ...                      ...   \n",
      "10580                        140                      0.0   \n",
      "10581                        231                      0.0   \n",
      "10582                        158                      0.0   \n",
      "10586                        206                      0.0   \n",
      "10594                        203                      0.0   \n",
      "\n",
      "       MOD_LECTURA_CRITICA_PUNT  MOD_INGLES_PUNT  MOD_COMPETEN_CIUDADA_PUNT  \\\n",
      "69                          152            189.0                        166   \n",
      "145                         169            139.0                         80   \n",
      "148                         154            184.0                        190   \n",
      "291                         150            176.0                        154   \n",
      "471                         181            145.0                        140   \n",
      "...                         ...              ...                        ...   \n",
      "10580                       167            119.0                        126   \n",
      "10581                       169            209.0                        181   \n",
      "10582                       183            162.0                        121   \n",
      "10586                       173            184.0                        140   \n",
      "10594                       165            159.0                        172   \n",
      "\n",
      "        AGE  \n",
      "69     23.0  \n",
      "145    26.0  \n",
      "148    25.0  \n",
      "291    25.0  \n",
      "471    23.0  \n",
      "...     ...  \n",
      "10580  23.0  \n",
      "10581  24.0  \n",
      "10582  23.0  \n",
      "10586  25.0  \n",
      "10594  26.0  \n",
      "\n",
      "[237 rows x 19 columns]\n"
     ]
    }
   ],
   "source": [
    "# Obtener todos los que tienen alguna competencia igual a 0\n",
    "Zeros = UD_df[(UD_df['MOD_RAZONA_CUANTITAT_PUNT'] == 0) | (UD_df['MOD_COMUNI_ESCRITA_PUNT'] == 0) | (UD_df['MOD_LECTURA_CRITICA_PUNT'] == 0) | (UD_df['MOD_INGLES_PUNT'] == 0) | (UD_df['MOD_COMPETEN_CIUDADA_PUNT'] == 0)]\n",
    "print(Zeros)"
   ]
  },
  {
   "cell_type": "code",
   "execution_count": 76,
   "metadata": {},
   "outputs": [
    {
     "name": "stdout",
     "output_type": "stream",
     "text": [
      "0        196.8\n",
      "1        166.8\n",
      "2        153.0\n",
      "4        180.0\n",
      "5        185.8\n",
      "         ...  \n",
      "10595    159.6\n",
      "10596    183.2\n",
      "10597    161.6\n",
      "10598    152.6\n",
      "10599    165.6\n",
      "Name: PUNT_GLOBAL, Length: 8922, dtype: float64\n"
     ]
    }
   ],
   "source": [
    "# Calcular puntuación global como el rendimiento de todos los componentes\n",
    "UD_df['PUNT_GLOBAL'] = UD_df['MOD_RAZONA_CUANTITAT_PUNT'] + UD_df['MOD_COMUNI_ESCRITA_PUNT'] + UD_df['MOD_LECTURA_CRITICA_PUNT'] + UD_df['MOD_INGLES_PUNT'] + UD_df['MOD_COMPETEN_CIUDADA_PUNT']\n",
    "UD_df['PUNT_GLOBAL'] = UD_df['PUNT_GLOBAL']/5\n",
    "print(UD_df['PUNT_GLOBAL'])"
   ]
  },
  {
   "cell_type": "code",
   "execution_count": 77,
   "metadata": {},
   "outputs": [
    {
     "data": {
      "image/png": "[encoded data removed]",
      "text/plain": [
       "<Figure size 640x480 with 1 Axes>"
      ]
     },
     "metadata": {},
     "output_type": "display_data"
    }
   ],
   "source": [
    "# Histograma puntaje total\n",
    "plt.hist(UD_df['PUNT_GLOBAL'], bins=10, edgecolor='black')\n",
    "plt.title('Histograma puntaje total')\n",
    "plt.xlabel('Puntaje total')\n",
    "plt.ylabel('Frecuencia')\n",
    "plt.show()"
   ]
  },
  {
   "cell_type": "code",
   "execution_count": 78,
   "metadata": {},
   "outputs": [
    {
     "name": "stdout",
     "output_type": "stream",
     "text": [
      "0         Alto\n",
      "1        Medio\n",
      "2        Medio\n",
      "4        Medio\n",
      "5         Alto\n",
      "         ...  \n",
      "10595    Medio\n",
      "10596     Alto\n",
      "10597    Medio\n",
      "10598    Medio\n",
      "10599    Medio\n",
      "Name: RENDIMIENTO, Length: 8922, dtype: category\n",
      "Categories (5, object): ['Muy bajo' < 'Bajo' < 'Medio' < 'Alto' < 'Excelente']\n"
     ]
    }
   ],
   "source": [
    "# Genera una columna \"RENDIMIENTO\" el cual es muy bajo, bajo, medio, alto, excelente para el puntaje global menor a 60, entre 60 y 120, entre 120 y 180, entre 180 y 240, mayor a 240\n",
    "UD_df['RENDIMIENTO'] = pd.cut(UD_df['PUNT_GLOBAL'], bins=[0,60,120,180,240,300], labels=['Muy bajo','Bajo','Medio','Alto','Excelente'])\n",
    "print(UD_df['RENDIMIENTO'])"
   ]
  },
  {
   "cell_type": "code",
   "execution_count": 79,
   "metadata": {},
   "outputs": [
    {
     "name": "stdout",
     "output_type": "stream",
     "text": [
      "<class 'pandas.core.frame.DataFrame'>\n",
      "Index: 8922 entries, 0 to 10599\n",
      "Data columns (total 21 columns):\n",
      " #   Column                     Non-Null Count  Dtype   \n",
      "---  ------                     --------------  -----   \n",
      " 0   PERIODO                    8922 non-null   int64   \n",
      " 1   ESTU_DEPTO_RESIDE          8922 non-null   object  \n",
      " 2   ESTU_PRGM_ACADEMICO        8922 non-null   object  \n",
      " 3   ESTU_HORASSEMANATRABAJA    8922 non-null   object  \n",
      " 4   ESTU_GENERO                8922 non-null   object  \n",
      " 5   ESTU_PAGOMATRICULAPROPIO   8922 non-null   object  \n",
      " 6   FAMI_EDUCACIONPADRE        8922 non-null   object  \n",
      " 7   FAMI_TIENEAUTOMOVIL        8922 non-null   object  \n",
      " 8   FAMI_TIENELAVADORA         8922 non-null   object  \n",
      " 9   FAMI_ESTRATOVIVIENDA       8922 non-null   object  \n",
      " 10  FAMI_TIENECOMPUTADOR       8922 non-null   object  \n",
      " 11  FAMI_TIENEINTERNET         8922 non-null   object  \n",
      " 12  FAMI_EDUCACIONMADRE        8922 non-null   object  \n",
      " 13  MOD_RAZONA_CUANTITAT_PUNT  8922 non-null   int64   \n",
      " 14  MOD_COMUNI_ESCRITA_PUNT    8922 non-null   float64 \n",
      " 15  MOD_LECTURA_CRITICA_PUNT   8922 non-null   int64   \n",
      " 16  MOD_INGLES_PUNT            8922 non-null   float64 \n",
      " 17  MOD_COMPETEN_CIUDADA_PUNT  8922 non-null   int64   \n",
      " 18  AGE                        8922 non-null   float64 \n",
      " 19  PUNT_GLOBAL                8922 non-null   float64 \n",
      " 20  RENDIMIENTO                8922 non-null   category\n",
      "dtypes: category(1), float64(4), int64(4), object(12)\n",
      "memory usage: 1.4+ MB\n"
     ]
    }
   ],
   "source": [
    "UD_df.info()"
   ]
  },
  {
   "cell_type": "code",
   "execution_count": 80,
   "metadata": {},
   "outputs": [],
   "source": [
    "# save df to \"clean_ud\"\n",
    "UD_df.to_csv(\"raw_data/clean_ud.csv\", index=False)"
   ]
  }
 ],
 "metadata": {
  "kernelspec": {
   "display_name": "saber-pro",
   "language": "python",
   "name": "python3"
  },
  "language_info": {
   "codemirror_mode": {
    "name": "ipython",
    "version": 3
   },
   "file_extension": ".py",
   "mimetype": "text/x-python",
   "name": "python",
   "nbconvert_exporter": "python",
   "pygments_lexer": "ipython3",
   "version": "3.13.0"
  }
 },
 "nbformat": 4,
 "nbformat_minor": 2
}
