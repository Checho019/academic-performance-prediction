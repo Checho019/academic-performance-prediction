{
 "cells": [
  {
   "cell_type": "code",
   "execution_count": 2,
   "metadata": {},
   "outputs": [
    {
     "ename": "ModuleNotFoundError",
     "evalue": "No module named 'matplotlib'",
     "output_type": "error",
     "traceback": [
      "\u001b[31m---------------------------------------------------------------------------\u001b[39m",
      "\u001b[31mModuleNotFoundError\u001b[39m                       Traceback (most recent call last)",
      "\u001b[36mCell\u001b[39m\u001b[36m \u001b[39m\u001b[32mIn[2]\u001b[39m\u001b[32m, line 3\u001b[39m\n\u001b[32m      1\u001b[39m \u001b[38;5;28;01mimport\u001b[39;00m\u001b[38;5;250m \u001b[39m\u001b[34;01mpandas\u001b[39;00m\u001b[38;5;250m \u001b[39m\u001b[38;5;28;01mas\u001b[39;00m\u001b[38;5;250m \u001b[39m\u001b[34;01mpd\u001b[39;00m\n\u001b[32m      2\u001b[39m \u001b[38;5;28;01mimport\u001b[39;00m\u001b[38;5;250m \u001b[39m\u001b[34;01mnumpy\u001b[39;00m\u001b[38;5;250m \u001b[39m\u001b[38;5;28;01mas\u001b[39;00m\u001b[38;5;250m \u001b[39m\u001b[34;01mnp\u001b[39;00m\n\u001b[32m----> \u001b[39m\u001b[32m3\u001b[39m \u001b[38;5;28;01mimport\u001b[39;00m\u001b[38;5;250m \u001b[39m\u001b[34;01mmatplotlib\u001b[39;00m\u001b[34;01m.\u001b[39;00m\u001b[34;01mpyplot\u001b[39;00m\u001b[38;5;250m \u001b[39m\u001b[38;5;28;01mas\u001b[39;00m\u001b[38;5;250m \u001b[39m\u001b[34;01mplt\u001b[39;00m\n",
      "\u001b[31mModuleNotFoundError\u001b[39m: No module named 'matplotlib'"
     ]
    }
   ],
   "source": [
    "import pandas as pd\n",
    "import numpy as np\n",
    "import matplotlib.pyplot as plt"
   ]
  },
  {
   "cell_type": "code",
   "execution_count": 7,
   "metadata": {},
   "outputs": [],
   "source": [
    "# universidad = 'UNIVERSIDAD DISTRITAL\"FRANCISCO JOSE DE CALDAS\"-BOGOTÁ D.C.'"
   ]
  },
  {
   "cell_type": "code",
   "execution_count": 8,
   "metadata": {},
   "outputs": [
    {
     "data": {
      "text/plain": [
       "Index(['PERIODO', 'ESTU_CONSECUTIVO', 'ESTU_TIPODOCUMENTO', 'ESTU_PAIS_RESIDE',\n",
       "       'ESTU_COD_RESIDE_DEPTO', 'ESTU_DEPTO_RESIDE', 'ESTU_COD_RESIDE_MCPIO',\n",
       "       'ESTU_MCPIO_RESIDE', 'ESTU_CODDANE_COLE_TERMINO',\n",
       "       'ESTU_COD_COLE_MCPIO_TERMINO', 'ESTU_COD_DEPTO_PRESENTACION',\n",
       "       'INST_COD_INSTITUCION', 'INST_NOMBRE_INSTITUCION',\n",
       "       'INST_CARACTER_ACADEMICO', 'ESTU_NUCLEO_PREGRADO',\n",
       "       'ESTU_INST_DEPARTAMENTO', 'ESTU_INST_CODMUNICIPIO',\n",
       "       'ESTU_INST_MUNICIPIO', 'ESTU_PRGM_ACADEMICO', 'ESTU_PRGM_DEPARTAMENTO',\n",
       "       'ESTU_PRGM_CODMUNICIPIO', 'ESTU_PRGM_MUNICIPIO',\n",
       "       'ESTU_NIVEL_PRGM_ACADEMICO', 'ESTU_METODO_PRGM',\n",
       "       'ESTU_VALORMATRICULAUNIVERSIDAD', 'ESTU_DEPTO_PRESENTACION',\n",
       "       'ESTU_COD_MCPIO_PRESENTACION', 'ESTU_MCPIO_PRESENTACION',\n",
       "       'ESTU_PAGOMATRICULABECA', 'ESTU_PAGOMATRICULACREDITO',\n",
       "       'ESTU_HORASSEMANATRABAJA', 'ESTU_SNIES_PRGMACADEMICO',\n",
       "       'ESTU_PRIVADO_LIBERTAD', 'ESTU_NACIONALIDAD', 'ESTU_ESTUDIANTE',\n",
       "       'ESTU_GENERO', 'ESTU_COLE_TERMINO', 'ESTU_PAGOMATRICULAPADRES',\n",
       "       'ESTU_ESTADOINVESTIGACION', 'ESTU_FECHANACIMIENTO',\n",
       "       'ESTU_PAGOMATRICULAPROPIO', 'ESTU_TIPODOCUMENTOSB11',\n",
       "       'FAMI_EDUCACIONPADRE', 'FAMI_TIENEAUTOMOVIL', 'FAMI_TIENELAVADORA',\n",
       "       'FAMI_ESTRATOVIVIENDA', 'FAMI_TIENECOMPUTADOR', 'FAMI_TIENEINTERNET',\n",
       "       'FAMI_EDUCACIONMADRE', 'INST_ORIGEN', 'MOD_RAZONA_CUANTITAT_PUNT',\n",
       "       'MOD_COMUNI_ESCRITA_PUNT', 'MOD_COMUNI_ESCRITA_DESEM',\n",
       "       'MOD_INGLES_DESEM', 'MOD_LECTURA_CRITICA_PUNT', 'MOD_INGLES_PUNT',\n",
       "       'MOD_COMPETEN_CIUDADA_PUNT'],\n",
       "      dtype='object')"
      ]
     },
     "execution_count": 8,
     "metadata": {},
     "output_type": "execute_result"
    }
   ],
   "source": [
    "UD_df = pd.read_csv(\"raw_data/ud.csv\")\n",
    "UD_df.columns"
   ]
  },
  {
   "cell_type": "code",
   "execution_count": 9,
   "metadata": {},
   "outputs": [
    {
     "name": "stdout",
     "output_type": "stream",
     "text": [
      "20\n"
     ]
    }
   ],
   "source": [
    "# extraer las columnas \n",
    "# ESTU_DEPTO_RESIDE -------------------- ¿Solo los de Bogotá? (No, todos los departamentos)\n",
    "# ESTU_PRGM_ACADEMICO ------------------ ¿Dejo el programa académico? ---- (Solo ingenieria)\n",
    "# ESTU_HORASSEMANATRABAJA -------------- ¿Cuanto tiempo trabaja a la semana? X\n",
    "# ESTU_ESTUDIANTE ---------------------- ¿Es estudiante o es individual? ---- (eliminar los individuales)\n",
    "# ESTU_GENERO -------------------------- ¿Genero? X\n",
    "# ESTU_FECHANACIMIENTO ----------------- ¿Fecha de nacimiento? X\n",
    "# ESTU_PAGOMATRICULAPROPIO ------------- ¿Paga usted mismo su matricula? x\n",
    "# FAMI_EDUCACIONPADRE ------------------ ¿Nivel de estudio del padre? X\n",
    "# FAMI_TIENEAUTOMOVIL ------------------ ¿Tiene automovil? X\n",
    "# FAMI_TIENELAVADORA ------------------- ¿Tiene lavadora? X\n",
    "# FAMI_ESTRATOVIVIENDA ----------------- ¿Estrato de la vivienda? X\n",
    "# FAMI_TIENECOMPUTADOR ----------------- ¿Tiene computador? X\n",
    "# FAMI_TIENEINTERNET ------------------- ¿Tiene internet? X\n",
    "# FAMI_EDUCACIONMADRE ------------------ ¿Nivel de estudio de la madre? X\n",
    "# MOD_RAZONA_CUANTITAT_PUNT ------------ ¿Puntaje Modulo Razonamiento Cuantitativo?\n",
    "# MOD_COMUNI_ESCRITA_PUNT -------------- ¿Puntaje Modulo Comunicación Escrita?\n",
    "# MOD_LECTURA_CRITICA_PUNT ------------- ¿Puntaje Modulo Lectura Crítica?\n",
    "# MOD_INGLES_PUNT ---------------------- ¿Puntaje Modulo Inglés?\n",
    "# MOD_COMPETEN_CIUDADA_PUNT ------------ ¿Puntaje Modulo Competencias Ciudadanas?\n",
    "# (calcular edad y calcular y el rendimiento en la prueba)\n",
    "# Todo en mayusculas\n",
    "columns = ['PERIODO','ESTU_DEPTO_RESIDE', 'ESTU_PRGM_ACADEMICO', 'ESTU_HORASSEMANATRABAJA', 'ESTU_ESTUDIANTE', 'ESTU_GENERO', 'ESTU_FECHANACIMIENTO', 'ESTU_PAGOMATRICULAPROPIO', 'FAMI_EDUCACIONPADRE', 'FAMI_TIENEAUTOMOVIL', 'FAMI_TIENELAVADORA', 'FAMI_ESTRATOVIVIENDA', 'FAMI_TIENECOMPUTADOR', 'FAMI_TIENEINTERNET', 'FAMI_EDUCACIONMADRE', 'MOD_RAZONA_CUANTITAT_PUNT', 'MOD_COMUNI_ESCRITA_PUNT', 'MOD_LECTURA_CRITICA_PUNT', 'MOD_INGLES_PUNT', 'MOD_COMPETEN_CIUDADA_PUNT']\n",
    "print(len(columns))\n",
    "UD_df = UD_df[columns]\n",
    "\n",
    "\n",
    "\n"
   ]
  },
  {
   "cell_type": "code",
   "execution_count": 10,
   "metadata": {},
   "outputs": [
    {
     "name": "stdout",
     "output_type": "stream",
     "text": [
      "<class 'pandas.core.frame.DataFrame'>\n",
      "RangeIndex: 10600 entries, 0 to 10599\n",
      "Data columns (total 20 columns):\n",
      " #   Column                     Non-Null Count  Dtype  \n",
      "---  ------                     --------------  -----  \n",
      " 0   PERIODO                    10600 non-null  int64  \n",
      " 1   ESTU_DEPTO_RESIDE          10587 non-null  object \n",
      " 2   ESTU_PRGM_ACADEMICO        10600 non-null  object \n",
      " 3   ESTU_HORASSEMANATRABAJA    9978 non-null   object \n",
      " 4   ESTU_ESTUDIANTE            10600 non-null  object \n",
      " 5   ESTU_GENERO                10596 non-null  object \n",
      " 6   ESTU_FECHANACIMIENTO       10600 non-null  object \n",
      " 7   ESTU_PAGOMATRICULAPROPIO   10548 non-null  object \n",
      " 8   FAMI_EDUCACIONPADRE        10132 non-null  object \n",
      " 9   FAMI_TIENEAUTOMOVIL        9901 non-null   object \n",
      " 10  FAMI_TIENELAVADORA         9946 non-null   object \n",
      " 11  FAMI_ESTRATOVIVIENDA       10017 non-null  object \n",
      " 12  FAMI_TIENECOMPUTADOR       9957 non-null   object \n",
      " 13  FAMI_TIENEINTERNET         10051 non-null  object \n",
      " 14  FAMI_EDUCACIONMADRE        10129 non-null  object \n",
      " 15  MOD_RAZONA_CUANTITAT_PUNT  10600 non-null  int64  \n",
      " 16  MOD_COMUNI_ESCRITA_PUNT    10539 non-null  float64\n",
      " 17  MOD_LECTURA_CRITICA_PUNT   10600 non-null  int64  \n",
      " 18  MOD_INGLES_PUNT            10599 non-null  float64\n",
      " 19  MOD_COMPETEN_CIUDADA_PUNT  10600 non-null  int64  \n",
      "dtypes: float64(2), int64(4), object(14)\n",
      "memory usage: 1.6+ MB\n"
     ]
    }
   ],
   "source": [
    "# conocer valores nulos, tipos de datos, en blanco, etc\n",
    "UD_df.info()"
   ]
  },
  {
   "cell_type": "code",
   "execution_count": 11,
   "metadata": {},
   "outputs": [
    {
     "name": "stdout",
     "output_type": "stream",
     "text": [
      "<class 'pandas.core.frame.DataFrame'>\n",
      "Index: 9673 entries, 0 to 10599\n",
      "Data columns (total 20 columns):\n",
      " #   Column                     Non-Null Count  Dtype  \n",
      "---  ------                     --------------  -----  \n",
      " 0   PERIODO                    9673 non-null   int64  \n",
      " 1   ESTU_DEPTO_RESIDE          9673 non-null   object \n",
      " 2   ESTU_PRGM_ACADEMICO        9673 non-null   object \n",
      " 3   ESTU_HORASSEMANATRABAJA    9673 non-null   object \n",
      " 4   ESTU_ESTUDIANTE            9673 non-null   object \n",
      " 5   ESTU_GENERO                9673 non-null   object \n",
      " 6   ESTU_FECHANACIMIENTO       9673 non-null   object \n",
      " 7   ESTU_PAGOMATRICULAPROPIO   9673 non-null   object \n",
      " 8   FAMI_EDUCACIONPADRE        9673 non-null   object \n",
      " 9   FAMI_TIENEAUTOMOVIL        9673 non-null   object \n",
      " 10  FAMI_TIENELAVADORA         9673 non-null   object \n",
      " 11  FAMI_ESTRATOVIVIENDA       9673 non-null   object \n",
      " 12  FAMI_TIENECOMPUTADOR       9673 non-null   object \n",
      " 13  FAMI_TIENEINTERNET         9673 non-null   object \n",
      " 14  FAMI_EDUCACIONMADRE        9673 non-null   object \n",
      " 15  MOD_RAZONA_CUANTITAT_PUNT  9673 non-null   int64  \n",
      " 16  MOD_COMUNI_ESCRITA_PUNT    9673 non-null   float64\n",
      " 17  MOD_LECTURA_CRITICA_PUNT   9673 non-null   int64  \n",
      " 18  MOD_INGLES_PUNT            9673 non-null   float64\n",
      " 19  MOD_COMPETEN_CIUDADA_PUNT  9673 non-null   int64  \n",
      "dtypes: float64(2), int64(4), object(14)\n",
      "memory usage: 1.5+ MB\n"
     ]
    }
   ],
   "source": [
    "# eliminar valores nulos\n",
    "UD_df = UD_df.dropna()\n",
    "UD_df.info()"
   ]
  },
  {
   "cell_type": "code",
   "execution_count": 12,
   "metadata": {},
   "outputs": [
    {
     "name": "stdout",
     "output_type": "stream",
     "text": [
      "Columna: PERIODO\n",
      "[20183 20195 20203 20212 20196 20225 20222]\n",
      "\n",
      "Columna: ESTU_DEPTO_RESIDE\n",
      "['BOGOTÁ' 'CUNDINAMARCA' 'CALDAS' 'NARIÑO' 'VALLE' 'META' 'BOYACA'\n",
      " 'QUINDIO' 'TOLIMA' 'SANTANDER' 'CAUCA' 'HUILA' 'NORTE SANTANDER'\n",
      " 'SAN ANDRES' 'CAQUETA' 'CASANARE' 'CORDOBA' 'LA GUAJIRA' 'RISARALDA'\n",
      " 'ATLANTICO' 'ANTIOQUIA' 'AMAZONAS' 'GUAINIA' 'ARAUCA']\n",
      "\n",
      "Columna: ESTU_PRGM_ACADEMICO\n",
      "['INGENIERIA FORESTAL' 'INGENIERIA CATASTRAL Y GEODESIA'\n",
      " 'INGENIERIA ELECTRICA' 'INGENIERIA EN TELEMATICA' 'INGENIERIA INDUSTRIAL'\n",
      " 'INGENIERIA DE SISTEMAS' 'INGENIERIA ELECTRONICA' 'ARTES MUSICALES'\n",
      " 'INGENIERIA EN CONTROL'\n",
      " 'LICENCIATURA EN EDUCACION BASICA CON ENFASIS EN CIENCIAS SOCIALES'\n",
      " 'LICENCIATURA EN EDUCACION BASICA CON ENFASIS EN INGLES'\n",
      " 'INGENIERIA TOPOGRAFICA' 'INGENIERIA AMBIENTAL'\n",
      " 'LICENCIATURA EN BIOLOGIA'\n",
      " 'LICENCIATURA EN EDUCACION BASICA CON ENFASIS EN HUMANIDADES Y LENGUA CASTELLANA'\n",
      " 'ARTES ESCENICAS' 'INGENIERÍA SANITARIA' 'INGENIERIA DE PRODUCCION'\n",
      " 'LICENCIATURA EN PEDAGOGIA INFANTIL' 'ADMINISTRACION DEPORTIVA'\n",
      " 'ADMINISTRACION AMBIENTAL' 'LICENCIATURA EN EDUCACI¿N ART¿STICA'\n",
      " 'ARTES PLASTICAS Y VISUALES' 'INGENIERIA CIVIL'\n",
      " 'LICENCIATURA EN EDUCACION BASICA CON ENFASIS EN MATEMATICAS'\n",
      " 'INGENIERIA EN  TELECOMUNICACIONES' 'ARTE DANZARIO' 'INGENIERIA MECANICA'\n",
      " 'LICENCIATURA EN QUIMICA' 'MATEMATICAS'\n",
      " 'LICENCIATURA EN EDUCACION BASICA CON ENFASIS EN EDUCACION ARTISTICA'\n",
      " 'LICENCIATURA EN FISICA' 'LICENCIATURA  EN MATEMATICAS'\n",
      " 'LICENCIATURA EN EDUCACION INFANTIL'\n",
      " 'INGENIERIA EN CONTROL Y AUTOMATIZACIÓN'\n",
      " 'COMUNICACION SOCIAL Y PERIODISMO'\n",
      " 'ARCHIVISTICA Y GESTION DE LA INFORMACION DIGITAL']\n",
      "\n",
      "Columna: ESTU_HORASSEMANATRABAJA\n",
      "['Entre 11 y 20 horas' 'Menos de 10 horas' 'Entre 21 y 30 horas'\n",
      " 'Más de 30 horas' '0']\n",
      "\n",
      "Columna: ESTU_ESTUDIANTE\n",
      "['ESTUDIANTE']\n",
      "\n",
      "Columna: ESTU_GENERO\n",
      "['F' 'M']\n",
      "\n",
      "Columna: ESTU_FECHANACIMIENTO\n",
      "['28/01/1996' '14/03/1995' '08/11/1997' ... '26/06/1999' '15/12/1989'\n",
      " '30/01/1986']\n",
      "\n",
      "Columna: ESTU_PAGOMATRICULAPROPIO\n",
      "['Si' 'No']\n",
      "\n",
      "Columna: FAMI_EDUCACIONPADRE\n",
      "['Educación profesional completa' 'Técnica o tecnológica completa'\n",
      " 'Primaria completa' 'Secundaria (Bachillerato) incompleta'\n",
      " 'Primaria incompleta' 'Secundaria (Bachillerato) completa' 'Postgrado'\n",
      " 'Ninguno' 'No Aplica' 'Técnica o tecnológica incompleta' 'No sabe'\n",
      " 'Educación profesional incompleta']\n",
      "\n",
      "Columna: FAMI_TIENEAUTOMOVIL\n",
      "['Si' 'No']\n",
      "\n",
      "Columna: FAMI_TIENELAVADORA\n",
      "['Si' 'No']\n",
      "\n",
      "Columna: FAMI_ESTRATOVIVIENDA\n",
      "['Estrato 3' 'Estrato 2' 'Estrato 5' 'Estrato 1' 'Sin Estrato' 'Estrato 4'\n",
      " 'Estrato 6']\n",
      "\n",
      "Columna: FAMI_TIENECOMPUTADOR\n",
      "['Si' 'No']\n",
      "\n",
      "Columna: FAMI_TIENEINTERNET\n",
      "['Si' 'No']\n",
      "\n",
      "Columna: FAMI_EDUCACIONMADRE\n",
      "['Educación profesional completa' 'Técnica o tecnológica completa'\n",
      " 'Secundaria (Bachillerato) completa' 'Primaria completa'\n",
      " 'Secundaria (Bachillerato) incompleta' 'Postgrado' 'Primaria incompleta'\n",
      " 'No Aplica' 'Técnica o tecnológica incompleta'\n",
      " 'Educación profesional incompleta' 'Ninguno' 'No sabe']\n",
      "\n",
      "Columna: MOD_RAZONA_CUANTITAT_PUNT\n",
      "[194 189 168 212 199 172 160 181 161 117 173 121 228 186 200 216 196 143\n",
      "  79 133 205 162 198 125 195 170 153 144 138 197 155 127 184 177 104 152\n",
      " 224 188 163 169 208 210 171 158 156 201 178 300 193 209 187 147 120 148\n",
      " 151 185 166 180 123 164 135 215 202 146 191 154 183 230 211 175 165 140\n",
      " 174 218 190 213 142 219 176 227 204 157 167 145 179 182 221 134 214 159\n",
      " 217 207  76 150 137 136 192 113 110 149 203 114 206 223 126 118 105 139\n",
      " 225 222 122  89  96 220 112 132 130 141 124 109 115 128 229  86 226 119\n",
      " 131 129 107  92 102  87 234  97 108 116  81  98  93 232 106 103 235  99\n",
      "  75 233 111  69 100  88 101  95  78 231  74  91  80  84 236  90  94  85\n",
      "  70  77  67]\n",
      "\n",
      "Columna: MOD_COMUNI_ESCRITA_PUNT\n",
      "[213. 171. 123. 192. 152. 206. 161.  89. 113. 106. 188. 145. 137. 173.\n",
      " 136. 126. 163. 182. 158. 180. 168. 112. 134. 186. 162. 193. 195. 159.\n",
      " 110. 175. 103. 203. 135. 154. 125. 101. 140. 157. 187. 131. 174. 164.\n",
      " 179. 177. 142. 108. 189. 127. 130. 185.   0. 176. 128. 172. 133. 197.\n",
      " 148. 105. 190.  97. 146. 198. 115. 141. 129. 166. 149. 160. 219. 194.\n",
      " 138. 132. 181. 191. 124. 147. 215. 118. 212. 183. 178. 170. 139. 107.\n",
      " 184. 167. 300. 116.  81. 211. 120.  94.  90. 202. 153. 151. 169. 143.\n",
      " 214. 156. 144. 208. 150. 210.  92. 201.  96. 100. 122. 117. 121. 234.\n",
      " 204. 196. 165.  95. 155.  98. 114. 209. 109. 218.  91.  93. 199. 227.\n",
      " 216. 200.  88.  79. 111. 223. 104.  99. 119. 220. 102. 231.  76. 207.\n",
      "  80.  74.  62. 205. 233. 222.  63.  87. 217. 229. 226.  73.  77.  84.\n",
      " 228.  83.  82. 221. 230.  68.  85.  75. 225. 232.  86. 224.  66.  72.\n",
      "  69.  78.]\n",
      "\n",
      "Columna: MOD_LECTURA_CRITICA_PUNT\n",
      "[197 182 165 132 193 178 155 159 209 108 141 180 118 190 183 120 184 186\n",
      " 212 196 146 173 122 164 175 179 207 158 181 177 192 167 194 145 199 124\n",
      " 168 213 195 216 176 115 138 201 133 151 202 152 171 206 147 162 198 154\n",
      " 142 161 157 160 203 187 134 169 139  96 204 200 170 189 210 163 185 174\n",
      " 217 144 135 109 156 224 136 130 129 188 137 143 218 148 153 191 149 215\n",
      " 222 172 214 150 166 125 111 126 140 114 205 119 211 116 102 223 131  90\n",
      " 227 220 127 219 121 117 226 208 110  91 123 128 230 229  93  99 105 104\n",
      " 225 300 100 231 221  97 101 228  79  98 106 233 113 112 107 235  95  94\n",
      " 232  72  74  92  66  77 103 236 234  73  86  78  62  69  71  84  75  70\n",
      "  67]\n",
      "\n",
      "Columna: MOD_INGLES_PUNT\n",
      "[193. 158. 153. 130. 171. 165. 142. 185. 183. 192. 109. 182. 188. 173.\n",
      " 300. 157. 163. 189. 162. 144. 178. 154. 106. 135. 210. 138. 200. 166.\n",
      " 190. 184. 201. 194. 156. 150. 155. 204. 133. 180. 175. 174. 146. 170.\n",
      " 179. 147. 168. 206. 141. 187. 209.  99. 224. 196. 149. 148. 186. 181.\n",
      "  86. 167. 151. 128. 172. 161. 202. 215. 214. 176. 136. 159. 131. 139.\n",
      " 169. 160. 207. 225. 195. 143. 177. 152. 164. 197.  97. 199. 145. 122.\n",
      " 203. 126. 223. 140. 198. 221. 132. 212. 124. 191. 229. 211. 205. 217.\n",
      " 101. 137. 222. 100. 121. 216. 118. 230. 218. 125. 220. 114. 129. 208.\n",
      " 102. 110. 116. 120. 134. 226. 117. 213. 127. 107. 231. 111. 105. 113.\n",
      " 228. 103.  83.   0.  92. 123.  79.  96. 112.  91. 108.  94. 119.  95.\n",
      " 104. 115. 219. 232.  80.  98.  74.  89. 227.  88.  93.  90.]\n",
      "\n",
      "Columna: MOD_COMPETEN_CIUDADA_PUNT\n",
      "[187 134 135 137 172 181 128 176 158 126 156 171 168 163 186 141 202 196\n",
      " 300 173 184 199 183  84 130 104 169 178 189 188 192 157 207 150 101 216\n",
      " 175 179 144 197 100 162 152 212 167 166 164 204 225 121 154 194 159 139\n",
      " 160 111 122 185 108 143 110 191 203 142 201 224 210 161 193 146 180 174\n",
      " 198 118 124  80 155 190 140 147 215 177 148 206 170 200 165 195 129 217\n",
      "  99 145 116 182 136 153 133 223 127 205 112 214  77 221 151  92 125 149\n",
      " 211 209 131 115 109  78 220 113 123  76 107  96 117 105 231  85 119 213\n",
      " 132 106 102 219 208 226 103  89  79 222  98 120  83 114  93  66  81 138\n",
      "  95  86  88  75  97  91  74  94  68 232  87 229 227  72  70 228  82  69\n",
      " 218  90  67  63  62  71  60  73  64]\n",
      "\n"
     ]
    }
   ],
   "source": [
    "# Obtener valores unicos por cada columna\n",
    "for column in UD_df.columns:\n",
    "    print(f\"Columna: {column}\")\n",
    "    print(UD_df[column].unique())\n",
    "    print(\"\")"
   ]
  },
  {
   "cell_type": "code",
   "execution_count": 14,
   "metadata": {},
   "outputs": [],
   "source": [
    "# Obtener el año de \"PERIODO\" que corresponde a los cuatro primeros digitos\n",
    "UD_df['PERIODO'] = UD_df['PERIODO'].astype(str)\n",
    "UD_df['PERIODO'] = UD_df['PERIODO'].str[:4]\n",
    "UD_df['PERIODO'] = UD_df['PERIODO'].astype(int)"
   ]
  },
  {
   "cell_type": "code",
   "execution_count": 15,
   "metadata": {},
   "outputs": [
    {
     "name": "stdout",
     "output_type": "stream",
     "text": [
      "<class 'pandas.core.frame.DataFrame'>\n",
      "Index: 9673 entries, 0 to 10599\n",
      "Data columns (total 20 columns):\n",
      " #   Column                     Non-Null Count  Dtype  \n",
      "---  ------                     --------------  -----  \n",
      " 0   PERIODO                    9673 non-null   int64  \n",
      " 1   ESTU_DEPTO_RESIDE          9673 non-null   object \n",
      " 2   ESTU_PRGM_ACADEMICO        9673 non-null   object \n",
      " 3   ESTU_HORASSEMANATRABAJA    9673 non-null   object \n",
      " 4   ESTU_ESTUDIANTE            9673 non-null   object \n",
      " 5   ESTU_GENERO                9673 non-null   object \n",
      " 6   ESTU_FECHANACIMIENTO       9673 non-null   object \n",
      " 7   ESTU_PAGOMATRICULAPROPIO   9673 non-null   object \n",
      " 8   FAMI_EDUCACIONPADRE        9673 non-null   object \n",
      " 9   FAMI_TIENEAUTOMOVIL        9673 non-null   object \n",
      " 10  FAMI_TIENELAVADORA         9673 non-null   object \n",
      " 11  FAMI_ESTRATOVIVIENDA       9673 non-null   object \n",
      " 12  FAMI_TIENECOMPUTADOR       9673 non-null   object \n",
      " 13  FAMI_TIENEINTERNET         9673 non-null   object \n",
      " 14  FAMI_EDUCACIONMADRE        9673 non-null   object \n",
      " 15  MOD_RAZONA_CUANTITAT_PUNT  9673 non-null   int64  \n",
      " 16  MOD_COMUNI_ESCRITA_PUNT    9673 non-null   float64\n",
      " 17  MOD_LECTURA_CRITICA_PUNT   9673 non-null   int64  \n",
      " 18  MOD_INGLES_PUNT            9673 non-null   float64\n",
      " 19  MOD_COMPETEN_CIUDADA_PUNT  9673 non-null   int64  \n",
      "dtypes: float64(2), int64(4), object(14)\n",
      "memory usage: 1.5+ MB\n"
     ]
    }
   ],
   "source": [
    "UD_df.info()"
   ]
  },
  {
   "cell_type": "code",
   "execution_count": null,
   "metadata": {},
   "outputs": [],
   "source": [
    "# Date format = 28/01/1996 (calculate age) using \"Periodo\" column\n",
    "UD_df['AUX'] = pd.to_datetime(UD_df['ESTU_FECHANACIMIENTO'], format='%d/%m/%Y', errors='coerce')\n",
    "UD_df['AGE'] = UD_df['PERIODO'] - UD_df['AUX'].dt.year\n",
    "UD_df['AGE'].unique()"
   ]
  },
  {
   "cell_type": "code",
   "execution_count": null,
   "metadata": {},
   "outputs": [],
   "source": [
    "# Eliminar valores nulos y las edades que son 0 o 118\n",
    "UD_df = UD_df.dropna()\n",
    "UD_df = UD_df[UD_df['AGE'] != 0]\n",
    "UD_df = UD_df[UD_df['AGE'] != 118]"
   ]
  },
  {
   "cell_type": "code",
   "execution_count": 39,
   "metadata": {},
   "outputs": [
    {
     "ename": "NameError",
     "evalue": "name 'plt' is not defined",
     "output_type": "error",
     "traceback": [
      "\u001b[31m---------------------------------------------------------------------------\u001b[39m",
      "\u001b[31mNameError\u001b[39m                                 Traceback (most recent call last)",
      "\u001b[36mCell\u001b[39m\u001b[36m \u001b[39m\u001b[32mIn[39]\u001b[39m\u001b[32m, line 2\u001b[39m\n\u001b[32m      1\u001b[39m \u001b[38;5;66;03m# Grafica de frecuencia de las edades\u001b[39;00m\n\u001b[32m----> \u001b[39m\u001b[32m2\u001b[39m \u001b[43mplt\u001b[49m.hist(UD_df[\u001b[33m'\u001b[39m\u001b[33mAGE\u001b[39m\u001b[33m'\u001b[39m], bins=\u001b[32m10\u001b[39m, edgecolor=\u001b[33m'\u001b[39m\u001b[33mblack\u001b[39m\u001b[33m'\u001b[39m)\n\u001b[32m      3\u001b[39m plt.title(\u001b[33m'\u001b[39m\u001b[33mFrecuencia de edades\u001b[39m\u001b[33m'\u001b[39m)\n\u001b[32m      4\u001b[39m plt.xlabel(\u001b[33m'\u001b[39m\u001b[33mEdad\u001b[39m\u001b[33m'\u001b[39m)\n",
      "\u001b[31mNameError\u001b[39m: name 'plt' is not defined"
     ]
    }
   ],
   "source": [
    "# Grafica de frecuencia de las edades\n",
    "plt.hist(UD_df['AGE'], bins=10, edgecolor='black')\n",
    "plt.title('Frecuencia de edades')\n",
    "plt.xlabel('Edad')\n",
    "plt.ylabel('Frecuencia')\n",
    "plt.show()\n",
    "\n"
   ]
  }
 ],
 "metadata": {
  "kernelspec": {
   "display_name": "gludbot",
   "language": "python",
   "name": "python3"
  },
  "language_info": {
   "codemirror_mode": {
    "name": "ipython",
    "version": 3
   },
   "file_extension": ".py",
   "mimetype": "text/x-python",
   "name": "python",
   "nbconvert_exporter": "python",
   "pygments_lexer": "ipython3",
   "version": "3.13.0"
  }
 },
 "nbformat": 4,
 "nbformat_minor": 2
}
